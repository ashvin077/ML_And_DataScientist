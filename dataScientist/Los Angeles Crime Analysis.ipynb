{
 "cells": [
  {
   "cell_type": "markdown",
   "id": "31ab2131-3049-4d8d-b9dc-d195f72af27a",
   "metadata": {},
   "source": [
    "![Los Angeles skyline](la_skyline.jpg)\n",
    "\n",
    "Los Angeles, California 😎. The City of Angels. Tinseltown. The Entertainment Capital of the World! \n",
    "\n",
    "Known for its warm weather, palm trees, sprawling coastline, and Hollywood, along with producing some of the most iconic films and songs. However, as with any highly populated city, it isn't always glamorous and there can be a large volume of crime. That's where you can help!\n",
    "\n",
    "You have been asked to support the Los Angeles Police Department (LAPD) by analyzing crime data to identify patterns in criminal behavior. They plan to use your insights to allocate resources effectively to tackle various crimes in different areas.\n",
    "\n",
    "## The Data\n",
    "\n",
    "They have provided you with a single dataset to use. A summary and preview are provided below.\n",
    "\n",
    "It is a modified version of the original data, which is publicly available from Los Angeles Open Data.\n",
    "\n",
    "# crimes.csv\n",
    "\n",
    "| Column     | Description              |\n",
    "|------------|--------------------------|\n",
    "| `'DR_NO'` | Division of Records Number: Official file number made up of a 2-digit year, area ID, and 5 digits. |\n",
    "| `'Date Rptd'` | Date reported - MM/DD/YYYY. |\n",
    "| `'DATE OCC'` | Date of occurrence - MM/DD/YYYY. |\n",
    "| `'TIME OCC'` | In 24-hour military time. |\n",
    "| `'AREA NAME'` | The 21 Geographic Areas or Patrol Divisions are also given a name designation that references a landmark or the surrounding community that it is responsible for. For example, the 77th Street Division is located at the intersection of South Broadway and 77th Street, serving neighborhoods in South Los Angeles. |\n",
    "| `'Crm Cd Desc'` | Indicates the crime committed. |\n",
    "| `'Vict Age'` | Victim's age in years. |\n",
    "| `'Vict Sex'` | Victim's sex: `F`: Female, `M`: Male, `X`: Unknown. |\n",
    "| `'Vict Descent'` | Victim's descent:<ul><li>`A` - Other Asian</li><li>`B` - Black</li><li>`C` - Chinese</li><li>`D` - Cambodian</li><li>`F` - Filipino</li><li>`G` - Guamanian</li><li>`H` - Hispanic/Latin/Mexican</li><li>`I` - American Indian/Alaskan Native</li><li>`J` - Japanese</li><li>`K` - Korean</li><li>`L` - Laotian</li><li>`O` - Other</li><li>`P` - Pacific Islander</li><li>`S` - Samoan</li><li>`U` - Hawaiian</li><li>`V` - Vietnamese</li><li>`W` - White</li><li>`X` - Unknown</li><li>`Z` - Asian Indian</li> |\n",
    "| `'Weapon Desc'` | Description of the weapon used (if applicable). |\n",
    "| `'Status Desc'` | Crime status. |\n",
    "| `'LOCATION'` | Street address of the crime. |"
   ]
  },
  {
   "cell_type": "code",
   "execution_count": 77,
   "id": "7c6c3c36-5c8b-4cce-8681-95292b8f0861",
   "metadata": {
    "executionCancelledAt": null,
    "executionTime": 385,
    "lastExecutedAt": 1755539269961,
    "lastExecutedByKernel": "08241967-f914-439f-bcdc-3633c4761a46",
    "lastScheduledRunId": null,
    "lastSuccessfullyExecutedCode": "# Re-run this cell\n# Import required libraries\nimport pandas as pd\nimport numpy as np\nimport matplotlib.pyplot as plt\nimport seaborn as sns\ncrimes = pd.read_csv(\"crimes.csv\", dtype={\"TIME OCC\": str})\ncrimes.head(10)",
    "outputsMetadata": {
     "0": {
      "height": 501,
      "tableState": {
       "customFilter": {
        "const": {
         "type": "boolean",
         "valid": true,
         "value": true
        },
        "id": "6e646587-fc6a-4b72-9988-c9e7226275e8",
        "nodeType": "const"
       },
       "quickFilterText": ""
      },
      "type": "dataFrame"
     }
    }
   },
   "outputs": [
    {
     "data": {
      "application/com.datacamp.data-table.v2+json": {
       "table": {
        "data": {
         "AREA NAME": [
          "Southwest",
          "Olympic",
          "Hollywood",
          "77th Street",
          "Rampart",
          "77th Street",
          "N Hollywood",
          "Mission",
          "77th Street",
          "N Hollywood"
         ],
         "Crm Cd Desc": [
          "THEFT OF IDENTITY",
          "THEFT OF IDENTITY",
          "THEFT OF IDENTITY",
          "THEFT OF IDENTITY",
          "THEFT OF IDENTITY",
          "THEFT OF IDENTITY",
          "THEFT OF IDENTITY",
          "THEFT OF IDENTITY",
          "BURGLARY",
          "OTHER MISCELLANEOUS CRIME"
         ],
         "DATE OCC": [
          "2020-05-12",
          "2020-06-04",
          "2020-08-17",
          "2020-01-27",
          "2020-07-14",
          "2020-02-23",
          "2020-04-01",
          "2020-01-14",
          "2020-08-15",
          "2020-07-15"
         ],
         "DR_NO": [
          220314085,
          222013040,
          220614831,
          231207725,
          220213256,
          221216052,
          221515929,
          231906599,
          231207476,
          231506571
         ],
         "Date Rptd": [
          "2022-07-22",
          "2022-08-06",
          "2022-08-18",
          "2023-02-27",
          "2022-07-14",
          "2022-07-07",
          "2022-10-10",
          "2023-03-03",
          "2023-02-27",
          "2023-03-03"
         ],
         "LOCATION": [
          "2500 S  SYCAMORE                     AV",
          "3300    SAN MARINO                   ST",
          "1900    TRANSIENT",
          "6200    4TH                          AV",
          "1200 W  7TH                          ST",
          "500 W  75TH                         ST",
          "5700    CARTWRIGHT                   AV",
          "14500    WILLOWGREEN                  LN",
          "8800    HAAS                         AV",
          "12300    EMELITA                      ST"
         ],
         "Status Desc": [
          "Invest Cont",
          "Invest Cont",
          "Invest Cont",
          "Invest Cont",
          "Invest Cont",
          "Invest Cont",
          "Invest Cont",
          "Invest Cont",
          "Invest Cont",
          "Invest Cont"
         ],
         "TIME OCC": [
          "1110",
          "1620",
          "1200",
          "0635",
          "0900",
          "1000",
          "1200",
          "1335",
          "0001",
          "1700"
         ],
         "Vict Age": [
          27,
          60,
          28,
          37,
          79,
          28,
          33,
          35,
          72,
          21
         ],
         "Vict Descent": [
          "B",
          "H",
          "H",
          "H",
          "B",
          "B",
          "W",
          "O",
          "B",
          "W"
         ],
         "Vict Sex": [
          "F",
          "M",
          "M",
          "M",
          "M",
          "F",
          "M",
          "M",
          "M",
          "F"
         ],
         "Weapon Desc": [
          null,
          null,
          null,
          null,
          null,
          null,
          null,
          null,
          null,
          "VERBAL THREAT"
         ],
         "index": [
          0,
          1,
          2,
          3,
          4,
          5,
          6,
          7,
          8,
          9
         ]
        },
        "schema": {
         "fields": [
          {
           "name": "index",
           "type": "integer"
          },
          {
           "name": "DR_NO",
           "type": "integer"
          },
          {
           "name": "Date Rptd",
           "type": "string"
          },
          {
           "name": "DATE OCC",
           "type": "string"
          },
          {
           "name": "TIME OCC",
           "type": "string"
          },
          {
           "name": "AREA NAME",
           "type": "string"
          },
          {
           "name": "Crm Cd Desc",
           "type": "string"
          },
          {
           "name": "Vict Age",
           "type": "integer"
          },
          {
           "name": "Vict Sex",
           "type": "string"
          },
          {
           "name": "Vict Descent",
           "type": "string"
          },
          {
           "name": "Weapon Desc",
           "type": "string"
          },
          {
           "name": "Status Desc",
           "type": "string"
          },
          {
           "name": "LOCATION",
           "type": "string"
          }
         ],
         "pandas_version": "1.4.0",
         "primaryKey": [
          "index"
         ]
        }
       },
       "total_rows": 10,
       "truncation_type": null
      },
      "text/html": [
       "<div>\n",
       "<style scoped>\n",
       "    .dataframe tbody tr th:only-of-type {\n",
       "        vertical-align: middle;\n",
       "    }\n",
       "\n",
       "    .dataframe tbody tr th {\n",
       "        vertical-align: top;\n",
       "    }\n",
       "\n",
       "    .dataframe thead th {\n",
       "        text-align: right;\n",
       "    }\n",
       "</style>\n",
       "<table border=\"1\" class=\"dataframe\">\n",
       "  <thead>\n",
       "    <tr style=\"text-align: right;\">\n",
       "      <th></th>\n",
       "      <th>DR_NO</th>\n",
       "      <th>Date Rptd</th>\n",
       "      <th>DATE OCC</th>\n",
       "      <th>TIME OCC</th>\n",
       "      <th>AREA NAME</th>\n",
       "      <th>Crm Cd Desc</th>\n",
       "      <th>Vict Age</th>\n",
       "      <th>Vict Sex</th>\n",
       "      <th>Vict Descent</th>\n",
       "      <th>Weapon Desc</th>\n",
       "      <th>Status Desc</th>\n",
       "      <th>LOCATION</th>\n",
       "    </tr>\n",
       "  </thead>\n",
       "  <tbody>\n",
       "    <tr>\n",
       "      <th>0</th>\n",
       "      <td>220314085</td>\n",
       "      <td>2022-07-22</td>\n",
       "      <td>2020-05-12</td>\n",
       "      <td>1110</td>\n",
       "      <td>Southwest</td>\n",
       "      <td>THEFT OF IDENTITY</td>\n",
       "      <td>27</td>\n",
       "      <td>F</td>\n",
       "      <td>B</td>\n",
       "      <td>NaN</td>\n",
       "      <td>Invest Cont</td>\n",
       "      <td>2500 S  SYCAMORE                     AV</td>\n",
       "    </tr>\n",
       "    <tr>\n",
       "      <th>1</th>\n",
       "      <td>222013040</td>\n",
       "      <td>2022-08-06</td>\n",
       "      <td>2020-06-04</td>\n",
       "      <td>1620</td>\n",
       "      <td>Olympic</td>\n",
       "      <td>THEFT OF IDENTITY</td>\n",
       "      <td>60</td>\n",
       "      <td>M</td>\n",
       "      <td>H</td>\n",
       "      <td>NaN</td>\n",
       "      <td>Invest Cont</td>\n",
       "      <td>3300    SAN MARINO                   ST</td>\n",
       "    </tr>\n",
       "    <tr>\n",
       "      <th>2</th>\n",
       "      <td>220614831</td>\n",
       "      <td>2022-08-18</td>\n",
       "      <td>2020-08-17</td>\n",
       "      <td>1200</td>\n",
       "      <td>Hollywood</td>\n",
       "      <td>THEFT OF IDENTITY</td>\n",
       "      <td>28</td>\n",
       "      <td>M</td>\n",
       "      <td>H</td>\n",
       "      <td>NaN</td>\n",
       "      <td>Invest Cont</td>\n",
       "      <td>1900    TRANSIENT</td>\n",
       "    </tr>\n",
       "    <tr>\n",
       "      <th>3</th>\n",
       "      <td>231207725</td>\n",
       "      <td>2023-02-27</td>\n",
       "      <td>2020-01-27</td>\n",
       "      <td>0635</td>\n",
       "      <td>77th Street</td>\n",
       "      <td>THEFT OF IDENTITY</td>\n",
       "      <td>37</td>\n",
       "      <td>M</td>\n",
       "      <td>H</td>\n",
       "      <td>NaN</td>\n",
       "      <td>Invest Cont</td>\n",
       "      <td>6200    4TH                          AV</td>\n",
       "    </tr>\n",
       "    <tr>\n",
       "      <th>4</th>\n",
       "      <td>220213256</td>\n",
       "      <td>2022-07-14</td>\n",
       "      <td>2020-07-14</td>\n",
       "      <td>0900</td>\n",
       "      <td>Rampart</td>\n",
       "      <td>THEFT OF IDENTITY</td>\n",
       "      <td>79</td>\n",
       "      <td>M</td>\n",
       "      <td>B</td>\n",
       "      <td>NaN</td>\n",
       "      <td>Invest Cont</td>\n",
       "      <td>1200 W  7TH                          ST</td>\n",
       "    </tr>\n",
       "    <tr>\n",
       "      <th>5</th>\n",
       "      <td>221216052</td>\n",
       "      <td>2022-07-07</td>\n",
       "      <td>2020-02-23</td>\n",
       "      <td>1000</td>\n",
       "      <td>77th Street</td>\n",
       "      <td>THEFT OF IDENTITY</td>\n",
       "      <td>28</td>\n",
       "      <td>F</td>\n",
       "      <td>B</td>\n",
       "      <td>NaN</td>\n",
       "      <td>Invest Cont</td>\n",
       "      <td>500 W  75TH                         ST</td>\n",
       "    </tr>\n",
       "    <tr>\n",
       "      <th>6</th>\n",
       "      <td>221515929</td>\n",
       "      <td>2022-10-10</td>\n",
       "      <td>2020-04-01</td>\n",
       "      <td>1200</td>\n",
       "      <td>N Hollywood</td>\n",
       "      <td>THEFT OF IDENTITY</td>\n",
       "      <td>33</td>\n",
       "      <td>M</td>\n",
       "      <td>W</td>\n",
       "      <td>NaN</td>\n",
       "      <td>Invest Cont</td>\n",
       "      <td>5700    CARTWRIGHT                   AV</td>\n",
       "    </tr>\n",
       "    <tr>\n",
       "      <th>7</th>\n",
       "      <td>231906599</td>\n",
       "      <td>2023-03-03</td>\n",
       "      <td>2020-01-14</td>\n",
       "      <td>1335</td>\n",
       "      <td>Mission</td>\n",
       "      <td>THEFT OF IDENTITY</td>\n",
       "      <td>35</td>\n",
       "      <td>M</td>\n",
       "      <td>O</td>\n",
       "      <td>NaN</td>\n",
       "      <td>Invest Cont</td>\n",
       "      <td>14500    WILLOWGREEN                  LN</td>\n",
       "    </tr>\n",
       "    <tr>\n",
       "      <th>8</th>\n",
       "      <td>231207476</td>\n",
       "      <td>2023-02-27</td>\n",
       "      <td>2020-08-15</td>\n",
       "      <td>0001</td>\n",
       "      <td>77th Street</td>\n",
       "      <td>BURGLARY</td>\n",
       "      <td>72</td>\n",
       "      <td>M</td>\n",
       "      <td>B</td>\n",
       "      <td>NaN</td>\n",
       "      <td>Invest Cont</td>\n",
       "      <td>8800    HAAS                         AV</td>\n",
       "    </tr>\n",
       "    <tr>\n",
       "      <th>9</th>\n",
       "      <td>231506571</td>\n",
       "      <td>2023-03-03</td>\n",
       "      <td>2020-07-15</td>\n",
       "      <td>1700</td>\n",
       "      <td>N Hollywood</td>\n",
       "      <td>OTHER MISCELLANEOUS CRIME</td>\n",
       "      <td>21</td>\n",
       "      <td>F</td>\n",
       "      <td>W</td>\n",
       "      <td>VERBAL THREAT</td>\n",
       "      <td>Invest Cont</td>\n",
       "      <td>12300    EMELITA                      ST</td>\n",
       "    </tr>\n",
       "  </tbody>\n",
       "</table>\n",
       "</div>"
      ],
      "text/plain": [
       "       DR_NO   Date Rptd  ...  Status Desc                                  LOCATION\n",
       "0  220314085  2022-07-22  ...  Invest Cont   2500 S  SYCAMORE                     AV\n",
       "1  222013040  2022-08-06  ...  Invest Cont   3300    SAN MARINO                   ST\n",
       "2  220614831  2022-08-18  ...  Invest Cont                         1900    TRANSIENT\n",
       "3  231207725  2023-02-27  ...  Invest Cont   6200    4TH                          AV\n",
       "4  220213256  2022-07-14  ...  Invest Cont   1200 W  7TH                          ST\n",
       "5  221216052  2022-07-07  ...  Invest Cont    500 W  75TH                         ST\n",
       "6  221515929  2022-10-10  ...  Invest Cont   5700    CARTWRIGHT                   AV\n",
       "7  231906599  2023-03-03  ...  Invest Cont  14500    WILLOWGREEN                  LN\n",
       "8  231207476  2023-02-27  ...  Invest Cont   8800    HAAS                         AV\n",
       "9  231506571  2023-03-03  ...  Invest Cont  12300    EMELITA                      ST\n",
       "\n",
       "[10 rows x 12 columns]"
      ]
     },
     "execution_count": 77,
     "metadata": {
      "application/com.datacamp.data-table.v2+json": {
       "status": "success"
      }
     },
     "output_type": "execute_result"
    }
   ],
   "source": [
    "# Re-run this cell\n",
    "# Import required libraries\n",
    "import pandas as pd\n",
    "import numpy as np\n",
    "import matplotlib.pyplot as plt\n",
    "import seaborn as sns\n",
    "crimes = pd.read_csv(\"crimes.csv\", dtype={\"TIME OCC\": str})\n",
    "crimes.head(10)"
   ]
  },
  {
   "cell_type": "code",
   "execution_count": 78,
   "id": "53eada96-447c-46c3-9848-f4ca3de53d06",
   "metadata": {
    "executionCancelledAt": null,
    "executionTime": 56,
    "lastExecutedAt": 1755539270017,
    "lastExecutedByKernel": "08241967-f914-439f-bcdc-3633c4761a46",
    "lastScheduledRunId": null,
    "lastSuccessfullyExecutedCode": "crimes['hours'] = crimes['TIME OCC'].str[:2]"
   },
   "outputs": [],
   "source": [
    "crimes['hours'] = crimes['TIME OCC'].str[:2]"
   ]
  },
  {
   "cell_type": "code",
   "execution_count": 79,
   "id": "0a0920ab-8a27-4ac9-a98b-8986f4f68c2b",
   "metadata": {
    "executionCancelledAt": null,
    "executionTime": 52,
    "lastExecutedAt": 1755539270069,
    "lastExecutedByKernel": "08241967-f914-439f-bcdc-3633c4761a46",
    "lastScheduledRunId": null,
    "lastSuccessfullyExecutedCode": "crimes.head()",
    "outputsMetadata": {
     "0": {
      "height": 501,
      "tableState": {
       "customFilter": {
        "const": {
         "type": "boolean",
         "valid": true,
         "value": true
        },
        "id": "6e646587-fc6a-4b72-9988-c9e7226275e8",
        "nodeType": "const"
       }
      },
      "type": "dataFrame"
     }
    }
   },
   "outputs": [
    {
     "data": {
      "application/com.datacamp.data-table.v2+json": {
       "table": {
        "data": {
         "AREA NAME": [
          "Southwest",
          "Olympic",
          "Hollywood",
          "77th Street",
          "Rampart"
         ],
         "Crm Cd Desc": [
          "THEFT OF IDENTITY",
          "THEFT OF IDENTITY",
          "THEFT OF IDENTITY",
          "THEFT OF IDENTITY",
          "THEFT OF IDENTITY"
         ],
         "DATE OCC": [
          "2020-05-12",
          "2020-06-04",
          "2020-08-17",
          "2020-01-27",
          "2020-07-14"
         ],
         "DR_NO": [
          220314085,
          222013040,
          220614831,
          231207725,
          220213256
         ],
         "Date Rptd": [
          "2022-07-22",
          "2022-08-06",
          "2022-08-18",
          "2023-02-27",
          "2022-07-14"
         ],
         "LOCATION": [
          "2500 S  SYCAMORE                     AV",
          "3300    SAN MARINO                   ST",
          "1900    TRANSIENT",
          "6200    4TH                          AV",
          "1200 W  7TH                          ST"
         ],
         "Status Desc": [
          "Invest Cont",
          "Invest Cont",
          "Invest Cont",
          "Invest Cont",
          "Invest Cont"
         ],
         "TIME OCC": [
          "1110",
          "1620",
          "1200",
          "0635",
          "0900"
         ],
         "Vict Age": [
          27,
          60,
          28,
          37,
          79
         ],
         "Vict Descent": [
          "B",
          "H",
          "H",
          "H",
          "B"
         ],
         "Vict Sex": [
          "F",
          "M",
          "M",
          "M",
          "M"
         ],
         "Weapon Desc": [
          null,
          null,
          null,
          null,
          null
         ],
         "hours": [
          "11",
          "16",
          "12",
          "06",
          "09"
         ],
         "index": [
          0,
          1,
          2,
          3,
          4
         ]
        },
        "schema": {
         "fields": [
          {
           "name": "index",
           "type": "integer"
          },
          {
           "name": "DR_NO",
           "type": "integer"
          },
          {
           "name": "Date Rptd",
           "type": "string"
          },
          {
           "name": "DATE OCC",
           "type": "string"
          },
          {
           "name": "TIME OCC",
           "type": "string"
          },
          {
           "name": "AREA NAME",
           "type": "string"
          },
          {
           "name": "Crm Cd Desc",
           "type": "string"
          },
          {
           "name": "Vict Age",
           "type": "integer"
          },
          {
           "name": "Vict Sex",
           "type": "string"
          },
          {
           "name": "Vict Descent",
           "type": "string"
          },
          {
           "name": "Weapon Desc",
           "type": "string"
          },
          {
           "name": "Status Desc",
           "type": "string"
          },
          {
           "name": "LOCATION",
           "type": "string"
          },
          {
           "name": "hours",
           "type": "string"
          }
         ],
         "pandas_version": "1.4.0",
         "primaryKey": [
          "index"
         ]
        }
       },
       "total_rows": 5,
       "truncation_type": null
      },
      "text/html": [
       "<div>\n",
       "<style scoped>\n",
       "    .dataframe tbody tr th:only-of-type {\n",
       "        vertical-align: middle;\n",
       "    }\n",
       "\n",
       "    .dataframe tbody tr th {\n",
       "        vertical-align: top;\n",
       "    }\n",
       "\n",
       "    .dataframe thead th {\n",
       "        text-align: right;\n",
       "    }\n",
       "</style>\n",
       "<table border=\"1\" class=\"dataframe\">\n",
       "  <thead>\n",
       "    <tr style=\"text-align: right;\">\n",
       "      <th></th>\n",
       "      <th>DR_NO</th>\n",
       "      <th>Date Rptd</th>\n",
       "      <th>DATE OCC</th>\n",
       "      <th>TIME OCC</th>\n",
       "      <th>AREA NAME</th>\n",
       "      <th>Crm Cd Desc</th>\n",
       "      <th>Vict Age</th>\n",
       "      <th>Vict Sex</th>\n",
       "      <th>Vict Descent</th>\n",
       "      <th>Weapon Desc</th>\n",
       "      <th>Status Desc</th>\n",
       "      <th>LOCATION</th>\n",
       "      <th>hours</th>\n",
       "    </tr>\n",
       "  </thead>\n",
       "  <tbody>\n",
       "    <tr>\n",
       "      <th>0</th>\n",
       "      <td>220314085</td>\n",
       "      <td>2022-07-22</td>\n",
       "      <td>2020-05-12</td>\n",
       "      <td>1110</td>\n",
       "      <td>Southwest</td>\n",
       "      <td>THEFT OF IDENTITY</td>\n",
       "      <td>27</td>\n",
       "      <td>F</td>\n",
       "      <td>B</td>\n",
       "      <td>NaN</td>\n",
       "      <td>Invest Cont</td>\n",
       "      <td>2500 S  SYCAMORE                     AV</td>\n",
       "      <td>11</td>\n",
       "    </tr>\n",
       "    <tr>\n",
       "      <th>1</th>\n",
       "      <td>222013040</td>\n",
       "      <td>2022-08-06</td>\n",
       "      <td>2020-06-04</td>\n",
       "      <td>1620</td>\n",
       "      <td>Olympic</td>\n",
       "      <td>THEFT OF IDENTITY</td>\n",
       "      <td>60</td>\n",
       "      <td>M</td>\n",
       "      <td>H</td>\n",
       "      <td>NaN</td>\n",
       "      <td>Invest Cont</td>\n",
       "      <td>3300    SAN MARINO                   ST</td>\n",
       "      <td>16</td>\n",
       "    </tr>\n",
       "    <tr>\n",
       "      <th>2</th>\n",
       "      <td>220614831</td>\n",
       "      <td>2022-08-18</td>\n",
       "      <td>2020-08-17</td>\n",
       "      <td>1200</td>\n",
       "      <td>Hollywood</td>\n",
       "      <td>THEFT OF IDENTITY</td>\n",
       "      <td>28</td>\n",
       "      <td>M</td>\n",
       "      <td>H</td>\n",
       "      <td>NaN</td>\n",
       "      <td>Invest Cont</td>\n",
       "      <td>1900    TRANSIENT</td>\n",
       "      <td>12</td>\n",
       "    </tr>\n",
       "    <tr>\n",
       "      <th>3</th>\n",
       "      <td>231207725</td>\n",
       "      <td>2023-02-27</td>\n",
       "      <td>2020-01-27</td>\n",
       "      <td>0635</td>\n",
       "      <td>77th Street</td>\n",
       "      <td>THEFT OF IDENTITY</td>\n",
       "      <td>37</td>\n",
       "      <td>M</td>\n",
       "      <td>H</td>\n",
       "      <td>NaN</td>\n",
       "      <td>Invest Cont</td>\n",
       "      <td>6200    4TH                          AV</td>\n",
       "      <td>06</td>\n",
       "    </tr>\n",
       "    <tr>\n",
       "      <th>4</th>\n",
       "      <td>220213256</td>\n",
       "      <td>2022-07-14</td>\n",
       "      <td>2020-07-14</td>\n",
       "      <td>0900</td>\n",
       "      <td>Rampart</td>\n",
       "      <td>THEFT OF IDENTITY</td>\n",
       "      <td>79</td>\n",
       "      <td>M</td>\n",
       "      <td>B</td>\n",
       "      <td>NaN</td>\n",
       "      <td>Invest Cont</td>\n",
       "      <td>1200 W  7TH                          ST</td>\n",
       "      <td>09</td>\n",
       "    </tr>\n",
       "  </tbody>\n",
       "</table>\n",
       "</div>"
      ],
      "text/plain": [
       "       DR_NO   Date Rptd  ...                                 LOCATION hours\n",
       "0  220314085  2022-07-22  ...  2500 S  SYCAMORE                     AV    11\n",
       "1  222013040  2022-08-06  ...  3300    SAN MARINO                   ST    16\n",
       "2  220614831  2022-08-18  ...                        1900    TRANSIENT    12\n",
       "3  231207725  2023-02-27  ...  6200    4TH                          AV    06\n",
       "4  220213256  2022-07-14  ...  1200 W  7TH                          ST    09\n",
       "\n",
       "[5 rows x 13 columns]"
      ]
     },
     "execution_count": 79,
     "metadata": {
      "application/com.datacamp.data-table.v2+json": {
       "status": "success"
      }
     },
     "output_type": "execute_result"
    }
   ],
   "source": [
    "crimes.head()"
   ]
  },
  {
   "cell_type": "code",
   "execution_count": 80,
   "id": "395b37c3-f828-4cdc-9c8d-db007971a26b",
   "metadata": {
    "executionCancelledAt": null,
    "executionTime": 591,
    "lastExecutedAt": 1755539270660,
    "lastExecutedByKernel": "08241967-f914-439f-bcdc-3633c4761a46",
    "lastScheduledRunId": null,
    "lastSuccessfullyExecutedCode": "sns.countplot(data=crimes,x='hours')\nplt.show()"
   },
   "outputs": [
    {
     "data": {
      "image/png": "[encoded data removed]",
      "text/plain": [
       "<Figure size 640x480 with 1 Axes>"
      ]
     },
     "metadata": {
      "image/png": {
       "height": 432,
       "width": 584
      }
     },
     "output_type": "display_data"
    }
   ],
   "source": [
    "sns.countplot(data=crimes,x='hours')\n",
    "plt.show()"
   ]
  },
  {
   "cell_type": "code",
   "execution_count": 81,
   "id": "356ca049-673a-4921-b8d3-2033d42b4d93",
   "metadata": {
    "executionCancelledAt": null,
    "executionTime": 51,
    "lastExecutedAt": 1755539270711,
    "lastExecutedByKernel": "08241967-f914-439f-bcdc-3633c4761a46",
    "lastScheduledRunId": null,
    "lastSuccessfullyExecutedCode": "peak_crime_hour = 12"
   },
   "outputs": [],
   "source": [
    "peak_crime_hour = 12"
   ]
  },
  {
   "cell_type": "code",
   "execution_count": 82,
   "id": "b588859a-b554-4bea-9291-81d40a10e3b8",
   "metadata": {
    "executionCancelledAt": null,
    "executionTime": 66,
    "lastExecutedAt": 1755539270777,
    "lastExecutedByKernel": "08241967-f914-439f-bcdc-3633c4761a46",
    "lastScheduledRunId": null,
    "lastSuccessfullyExecutedCode": "crimes['hours'] = crimes['hours'].astype('int')\nnight_crimes = crimes[crimes['hours'].isin([22,23,0,1,2,3])]"
   },
   "outputs": [],
   "source": [
    "crimes['hours'] = crimes['hours'].astype('int')\n",
    "night_crimes = crimes[crimes['hours'].isin([22,23,0,1,2,3])]"
   ]
  },
  {
   "cell_type": "code",
   "execution_count": 83,
   "id": "849d61b8-d3ed-4288-a2e1-0f72ace11c08",
   "metadata": {
    "executionCancelledAt": null,
    "executionTime": 52,
    "lastExecutedAt": 1755539270829,
    "lastExecutedByKernel": "08241967-f914-439f-bcdc-3633c4761a46",
    "lastScheduledRunId": null,
    "lastSuccessfullyExecutedCode": "night_crimes.head(10)",
    "outputsMetadata": {
     "0": {
      "height": 501,
      "tableState": {
       "customFilter": {
        "const": {
         "type": "boolean",
         "valid": true,
         "value": true
        },
        "id": "6e646587-fc6a-4b72-9988-c9e7226275e8",
        "nodeType": "const"
       }
      },
      "type": "dataFrame"
     }
    }
   },
   "outputs": [
    {
     "data": {
      "application/com.datacamp.data-table.v2+json": {
       "table": {
        "data": {
         "AREA NAME": [
          "77th Street",
          "Devonshire",
          "Newton",
          "Newton",
          "Foothill",
          "Wilshire",
          "Central",
          "Van Nuys",
          "Topanga",
          "Southeast"
         ],
         "Crm Cd Desc": [
          "BURGLARY",
          "THEFT OF IDENTITY",
          "THEFT OF IDENTITY",
          "THEFT OF IDENTITY",
          "THEFT OF IDENTITY",
          "EMBEZZLEMENT, GRAND THEFT ($950.01 & OVER)",
          "THEFT OF IDENTITY",
          "THEFT OF IDENTITY",
          "THEFT OF IDENTITY",
          "THEFT OF IDENTITY"
         ],
         "DATE OCC": [
          "2020-08-15",
          "2020-05-15",
          "2020-04-07",
          "2020-07-05",
          "2020-01-01",
          "2020-07-01",
          "2020-02-25",
          "2020-11-19",
          "2020-01-01",
          "2020-05-17"
         ],
         "DR_NO": [
          231207476,
          221711184,
          221314362,
          231307252,
          221614254,
          220710510,
          220114107,
          220910623,
          222110021,
          221812809
         ],
         "Date Rptd": [
          "2023-02-27",
          "2022-06-15",
          "2022-07-11",
          "2023-03-03",
          "2022-11-13",
          "2022-06-16",
          "2022-06-13",
          "2022-06-21",
          "2022-06-02",
          "2022-06-17"
         ],
         "LOCATION": [
          "8800    HAAS                         AV",
          "8300    WHITE OAK                    AV",
          "1600 E  OLYMPIC                      BL",
          "6600 S  BROADWAY",
          "10200    TELFAIR                      AV",
          "6100    WILSHIRE                     BL",
          "600 S  MAIN                         ST",
          "6300    MORSE                        AV",
          "23100    AVENUE SAN LUIS",
          "200 E  LANZIT                       AV"
         ],
         "Status Desc": [
          "Invest Cont",
          "Invest Cont",
          "Invest Cont",
          "Invest Cont",
          "Invest Cont",
          "Invest Cont",
          "Invest Cont",
          "Invest Cont",
          "Invest Cont",
          "Invest Cont"
         ],
         "TIME OCC": [
          "0001",
          "0155",
          "0001",
          "2305",
          "0001",
          "0001",
          "0001",
          "0001",
          "0001",
          "0001"
         ],
         "Vict Age": [
          72,
          27,
          53,
          22,
          22,
          19,
          23,
          53,
          25,
          38
         ],
         "Vict Descent": [
          "B",
          "B",
          "H",
          "B",
          "H",
          "X",
          "B",
          "W",
          "B",
          "B"
         ],
         "Vict Sex": [
          "M",
          "M",
          "F",
          "F",
          "F",
          "X",
          "M",
          "F",
          "F",
          "M"
         ],
         "Weapon Desc": [
          null,
          null,
          null,
          null,
          null,
          null,
          null,
          null,
          null,
          null
         ],
         "hours": [
          0,
          1,
          0,
          23,
          0,
          0,
          0,
          0,
          0,
          0
         ],
         "index": [
          8,
          10,
          30,
          33,
          36,
          39,
          40,
          41,
          47,
          56
         ]
        },
        "schema": {
         "fields": [
          {
           "name": "index",
           "type": "integer"
          },
          {
           "name": "DR_NO",
           "type": "integer"
          },
          {
           "name": "Date Rptd",
           "type": "string"
          },
          {
           "name": "DATE OCC",
           "type": "string"
          },
          {
           "name": "TIME OCC",
           "type": "string"
          },
          {
           "name": "AREA NAME",
           "type": "string"
          },
          {
           "name": "Crm Cd Desc",
           "type": "string"
          },
          {
           "name": "Vict Age",
           "type": "integer"
          },
          {
           "name": "Vict Sex",
           "type": "string"
          },
          {
           "name": "Vict Descent",
           "type": "string"
          },
          {
           "name": "Weapon Desc",
           "type": "string"
          },
          {
           "name": "Status Desc",
           "type": "string"
          },
          {
           "name": "LOCATION",
           "type": "string"
          },
          {
           "name": "hours",
           "type": "integer"
          }
         ],
         "pandas_version": "1.4.0",
         "primaryKey": [
          "index"
         ]
        }
       },
       "total_rows": 10,
       "truncation_type": null
      },
      "text/html": [
       "<div>\n",
       "<style scoped>\n",
       "    .dataframe tbody tr th:only-of-type {\n",
       "        vertical-align: middle;\n",
       "    }\n",
       "\n",
       "    .dataframe tbody tr th {\n",
       "        vertical-align: top;\n",
       "    }\n",
       "\n",
       "    .dataframe thead th {\n",
       "        text-align: right;\n",
       "    }\n",
       "</style>\n",
       "<table border=\"1\" class=\"dataframe\">\n",
       "  <thead>\n",
       "    <tr style=\"text-align: right;\">\n",
       "      <th></th>\n",
       "      <th>DR_NO</th>\n",
       "      <th>Date Rptd</th>\n",
       "      <th>DATE OCC</th>\n",
       "      <th>TIME OCC</th>\n",
       "      <th>AREA NAME</th>\n",
       "      <th>Crm Cd Desc</th>\n",
       "      <th>Vict Age</th>\n",
       "      <th>Vict Sex</th>\n",
       "      <th>Vict Descent</th>\n",
       "      <th>Weapon Desc</th>\n",
       "      <th>Status Desc</th>\n",
       "      <th>LOCATION</th>\n",
       "      <th>hours</th>\n",
       "    </tr>\n",
       "  </thead>\n",
       "  <tbody>\n",
       "    <tr>\n",
       "      <th>8</th>\n",
       "      <td>231207476</td>\n",
       "      <td>2023-02-27</td>\n",
       "      <td>2020-08-15</td>\n",
       "      <td>0001</td>\n",
       "      <td>77th Street</td>\n",
       "      <td>BURGLARY</td>\n",
       "      <td>72</td>\n",
       "      <td>M</td>\n",
       "      <td>B</td>\n",
       "      <td>NaN</td>\n",
       "      <td>Invest Cont</td>\n",
       "      <td>8800    HAAS                         AV</td>\n",
       "      <td>0</td>\n",
       "    </tr>\n",
       "    <tr>\n",
       "      <th>10</th>\n",
       "      <td>221711184</td>\n",
       "      <td>2022-06-15</td>\n",
       "      <td>2020-05-15</td>\n",
       "      <td>0155</td>\n",
       "      <td>Devonshire</td>\n",
       "      <td>THEFT OF IDENTITY</td>\n",
       "      <td>27</td>\n",
       "      <td>M</td>\n",
       "      <td>B</td>\n",
       "      <td>NaN</td>\n",
       "      <td>Invest Cont</td>\n",
       "      <td>8300    WHITE OAK                    AV</td>\n",
       "      <td>1</td>\n",
       "    </tr>\n",
       "    <tr>\n",
       "      <th>30</th>\n",
       "      <td>221314362</td>\n",
       "      <td>2022-07-11</td>\n",
       "      <td>2020-04-07</td>\n",
       "      <td>0001</td>\n",
       "      <td>Newton</td>\n",
       "      <td>THEFT OF IDENTITY</td>\n",
       "      <td>53</td>\n",
       "      <td>F</td>\n",
       "      <td>H</td>\n",
       "      <td>NaN</td>\n",
       "      <td>Invest Cont</td>\n",
       "      <td>1600 E  OLYMPIC                      BL</td>\n",
       "      <td>0</td>\n",
       "    </tr>\n",
       "    <tr>\n",
       "      <th>33</th>\n",
       "      <td>231307252</td>\n",
       "      <td>2023-03-03</td>\n",
       "      <td>2020-07-05</td>\n",
       "      <td>2305</td>\n",
       "      <td>Newton</td>\n",
       "      <td>THEFT OF IDENTITY</td>\n",
       "      <td>22</td>\n",
       "      <td>F</td>\n",
       "      <td>B</td>\n",
       "      <td>NaN</td>\n",
       "      <td>Invest Cont</td>\n",
       "      <td>6600 S  BROADWAY</td>\n",
       "      <td>23</td>\n",
       "    </tr>\n",
       "    <tr>\n",
       "      <th>36</th>\n",
       "      <td>221614254</td>\n",
       "      <td>2022-11-13</td>\n",
       "      <td>2020-01-01</td>\n",
       "      <td>0001</td>\n",
       "      <td>Foothill</td>\n",
       "      <td>THEFT OF IDENTITY</td>\n",
       "      <td>22</td>\n",
       "      <td>F</td>\n",
       "      <td>H</td>\n",
       "      <td>NaN</td>\n",
       "      <td>Invest Cont</td>\n",
       "      <td>10200    TELFAIR                      AV</td>\n",
       "      <td>0</td>\n",
       "    </tr>\n",
       "    <tr>\n",
       "      <th>39</th>\n",
       "      <td>220710510</td>\n",
       "      <td>2022-06-16</td>\n",
       "      <td>2020-07-01</td>\n",
       "      <td>0001</td>\n",
       "      <td>Wilshire</td>\n",
       "      <td>EMBEZZLEMENT, GRAND THEFT ($950.01 &amp; OVER)</td>\n",
       "      <td>19</td>\n",
       "      <td>X</td>\n",
       "      <td>X</td>\n",
       "      <td>NaN</td>\n",
       "      <td>Invest Cont</td>\n",
       "      <td>6100    WILSHIRE                     BL</td>\n",
       "      <td>0</td>\n",
       "    </tr>\n",
       "    <tr>\n",
       "      <th>40</th>\n",
       "      <td>220114107</td>\n",
       "      <td>2022-06-13</td>\n",
       "      <td>2020-02-25</td>\n",
       "      <td>0001</td>\n",
       "      <td>Central</td>\n",
       "      <td>THEFT OF IDENTITY</td>\n",
       "      <td>23</td>\n",
       "      <td>M</td>\n",
       "      <td>B</td>\n",
       "      <td>NaN</td>\n",
       "      <td>Invest Cont</td>\n",
       "      <td>600 S  MAIN                         ST</td>\n",
       "      <td>0</td>\n",
       "    </tr>\n",
       "    <tr>\n",
       "      <th>41</th>\n",
       "      <td>220910623</td>\n",
       "      <td>2022-06-21</td>\n",
       "      <td>2020-11-19</td>\n",
       "      <td>0001</td>\n",
       "      <td>Van Nuys</td>\n",
       "      <td>THEFT OF IDENTITY</td>\n",
       "      <td>53</td>\n",
       "      <td>F</td>\n",
       "      <td>W</td>\n",
       "      <td>NaN</td>\n",
       "      <td>Invest Cont</td>\n",
       "      <td>6300    MORSE                        AV</td>\n",
       "      <td>0</td>\n",
       "    </tr>\n",
       "    <tr>\n",
       "      <th>47</th>\n",
       "      <td>222110021</td>\n",
       "      <td>2022-06-02</td>\n",
       "      <td>2020-01-01</td>\n",
       "      <td>0001</td>\n",
       "      <td>Topanga</td>\n",
       "      <td>THEFT OF IDENTITY</td>\n",
       "      <td>25</td>\n",
       "      <td>F</td>\n",
       "      <td>B</td>\n",
       "      <td>NaN</td>\n",
       "      <td>Invest Cont</td>\n",
       "      <td>23100    AVENUE SAN LUIS</td>\n",
       "      <td>0</td>\n",
       "    </tr>\n",
       "    <tr>\n",
       "      <th>56</th>\n",
       "      <td>221812809</td>\n",
       "      <td>2022-06-17</td>\n",
       "      <td>2020-05-17</td>\n",
       "      <td>0001</td>\n",
       "      <td>Southeast</td>\n",
       "      <td>THEFT OF IDENTITY</td>\n",
       "      <td>38</td>\n",
       "      <td>M</td>\n",
       "      <td>B</td>\n",
       "      <td>NaN</td>\n",
       "      <td>Invest Cont</td>\n",
       "      <td>200 E  LANZIT                       AV</td>\n",
       "      <td>0</td>\n",
       "    </tr>\n",
       "  </tbody>\n",
       "</table>\n",
       "</div>"
      ],
      "text/plain": [
       "        DR_NO   Date Rptd  ...                                  LOCATION hours\n",
       "8   231207476  2023-02-27  ...   8800    HAAS                         AV     0\n",
       "10  221711184  2022-06-15  ...   8300    WHITE OAK                    AV     1\n",
       "30  221314362  2022-07-11  ...   1600 E  OLYMPIC                      BL     0\n",
       "33  231307252  2023-03-03  ...                          6600 S  BROADWAY    23\n",
       "36  221614254  2022-11-13  ...  10200    TELFAIR                      AV     0\n",
       "39  220710510  2022-06-16  ...   6100    WILSHIRE                     BL     0\n",
       "40  220114107  2022-06-13  ...    600 S  MAIN                         ST     0\n",
       "41  220910623  2022-06-21  ...   6300    MORSE                        AV     0\n",
       "47  222110021  2022-06-02  ...                  23100    AVENUE SAN LUIS     0\n",
       "56  221812809  2022-06-17  ...    200 E  LANZIT                       AV     0\n",
       "\n",
       "[10 rows x 13 columns]"
      ]
     },
     "execution_count": 83,
     "metadata": {
      "application/com.datacamp.data-table.v2+json": {
       "status": "success"
      }
     },
     "output_type": "execute_result"
    }
   ],
   "source": [
    "night_crimes.head(10)"
   ]
  },
  {
   "cell_type": "code",
   "execution_count": 84,
   "id": "fb99ddad-9772-40d8-9de0-9e84faa1fa3f",
   "metadata": {
    "executionCancelledAt": null,
    "executionTime": 56,
    "lastExecutedAt": 1755539270885,
    "lastExecutedByKernel": "08241967-f914-439f-bcdc-3633c4761a46",
    "lastScheduledRunId": null,
    "lastSuccessfullyExecutedCode": "print(night_crimes.groupby('AREA NAME')['Crm Cd Desc'].count().sort_values(ascending=False))",
    "outputsMetadata": {
     "0": {
      "height": 500,
      "type": "stream"
     }
    }
   },
   "outputs": [
    {
     "name": "stdout",
     "output_type": "stream",
     "text": [
      "AREA NAME\n",
      "Central        3312\n",
      "Hollywood      2699\n",
      "77th Street    2558\n",
      "Southwest      2347\n",
      "Southeast      2218\n",
      "Newton         2142\n",
      "Olympic        2137\n",
      "Pacific        1916\n",
      "Rampart        1860\n",
      "N Hollywood    1855\n",
      "Wilshire       1716\n",
      "Northeast      1684\n",
      "Van Nuys       1629\n",
      "West Valley    1520\n",
      "Topanga        1461\n",
      "Mission        1453\n",
      "Harbor         1384\n",
      "West LA        1369\n",
      "Devonshire     1348\n",
      "Hollenbeck     1315\n",
      "Foothill       1260\n",
      "Name: Crm Cd Desc, dtype: int64\n"
     ]
    }
   ],
   "source": [
    "print(night_crimes.groupby('AREA NAME')['Crm Cd Desc'].count().sort_values(ascending=False))"
   ]
  },
  {
   "cell_type": "code",
   "execution_count": 85,
   "id": "a98d6403-f99b-4e08-8a17-d188c4f4e45f",
   "metadata": {
    "executionCancelledAt": null,
    "executionTime": 52,
    "lastExecutedAt": 1755539270937,
    "lastExecutedByKernel": "08241967-f914-439f-bcdc-3633c4761a46",
    "lastScheduledRunId": null,
    "lastSuccessfullyExecutedCode": "peak_night_crime_location = 'Central'"
   },
   "outputs": [],
   "source": [
    "peak_night_crime_location = 'Central'"
   ]
  },
  {
   "cell_type": "code",
   "execution_count": 86,
   "id": "6b10c161-4bf1-4803-8b46-92da407a678e",
   "metadata": {
    "executionCancelledAt": null,
    "executionTime": 52,
    "lastExecutedAt": 1755539270989,
    "lastExecutedByKernel": "08241967-f914-439f-bcdc-3633c4761a46",
    "lastScheduledRunId": null,
    "lastSuccessfullyExecutedCode": "bins_ = [0, 17, 25, 34, 44, 54, 64, np.inf]\nlabels_ = ['0-17','18-25','26-34','35-44','45-54','55-64','65+']"
   },
   "outputs": [],
   "source": [
    "bins_ = [0, 17, 25, 34, 44, 54, 64, np.inf]\n",
    "labels_ = ['0-17','18-25','26-34','35-44','45-54','55-64','65+']"
   ]
  },
  {
   "cell_type": "code",
   "execution_count": 87,
   "id": "c406a103-829d-49b1-9450-f9ec4ff788e7",
   "metadata": {
    "executionCancelledAt": null,
    "executionTime": 52,
    "lastExecutedAt": 1755539271041,
    "lastExecutedByKernel": "08241967-f914-439f-bcdc-3633c4761a46",
    "lastScheduledRunId": null,
    "lastSuccessfullyExecutedCode": "crimes['Grouped Age'] = pd.cut(crimes[\"Vict Age\"],bins=bins_,labels=labels_)"
   },
   "outputs": [],
   "source": [
    "crimes['Grouped Age'] = pd.cut(crimes[\"Vict Age\"],bins=bins_,labels=labels_)"
   ]
  },
  {
   "cell_type": "code",
   "execution_count": 88,
   "id": "b9884e21-b8cf-46a0-8c88-06cddac2d5d6",
   "metadata": {
    "executionCancelledAt": null,
    "executionTime": 55,
    "lastExecutedAt": 1755539271096,
    "lastExecutedByKernel": "08241967-f914-439f-bcdc-3633c4761a46",
    "lastScheduledRunId": null,
    "lastSuccessfullyExecutedCode": "crimes.head()",
    "outputsMetadata": {
     "0": {
      "height": 501,
      "tableState": {
       "customFilter": {
        "const": {
         "type": "boolean",
         "valid": true,
         "value": true
        },
        "id": "6e646587-fc6a-4b72-9988-c9e7226275e8",
        "nodeType": "const"
       }
      },
      "type": "dataFrame"
     }
    }
   },
   "outputs": [
    {
     "data": {
      "application/com.datacamp.data-table.v2+json": {
       "table": {
        "data": {
         "AREA NAME": [
          "Southwest",
          "Olympic",
          "Hollywood",
          "77th Street",
          "Rampart"
         ],
         "Crm Cd Desc": [
          "THEFT OF IDENTITY",
          "THEFT OF IDENTITY",
          "THEFT OF IDENTITY",
          "THEFT OF IDENTITY",
          "THEFT OF IDENTITY"
         ],
         "DATE OCC": [
          "2020-05-12",
          "2020-06-04",
          "2020-08-17",
          "2020-01-27",
          "2020-07-14"
         ],
         "DR_NO": [
          220314085,
          222013040,
          220614831,
          231207725,
          220213256
         ],
         "Date Rptd": [
          "2022-07-22",
          "2022-08-06",
          "2022-08-18",
          "2023-02-27",
          "2022-07-14"
         ],
         "Grouped Age": [
          "26-34",
          "55-64",
          "26-34",
          "35-44",
          "65+"
         ],
         "LOCATION": [
          "2500 S  SYCAMORE                     AV",
          "3300    SAN MARINO                   ST",
          "1900    TRANSIENT",
          "6200    4TH                          AV",
          "1200 W  7TH                          ST"
         ],
         "Status Desc": [
          "Invest Cont",
          "Invest Cont",
          "Invest Cont",
          "Invest Cont",
          "Invest Cont"
         ],
         "TIME OCC": [
          "1110",
          "1620",
          "1200",
          "0635",
          "0900"
         ],
         "Vict Age": [
          27,
          60,
          28,
          37,
          79
         ],
         "Vict Descent": [
          "B",
          "H",
          "H",
          "H",
          "B"
         ],
         "Vict Sex": [
          "F",
          "M",
          "M",
          "M",
          "M"
         ],
         "Weapon Desc": [
          null,
          null,
          null,
          null,
          null
         ],
         "hours": [
          11,
          16,
          12,
          6,
          9
         ],
         "index": [
          0,
          1,
          2,
          3,
          4
         ]
        },
        "schema": {
         "fields": [
          {
           "name": "index",
           "type": "integer"
          },
          {
           "name": "DR_NO",
           "type": "integer"
          },
          {
           "name": "Date Rptd",
           "type": "string"
          },
          {
           "name": "DATE OCC",
           "type": "string"
          },
          {
           "name": "TIME OCC",
           "type": "string"
          },
          {
           "name": "AREA NAME",
           "type": "string"
          },
          {
           "name": "Crm Cd Desc",
           "type": "string"
          },
          {
           "name": "Vict Age",
           "type": "integer"
          },
          {
           "name": "Vict Sex",
           "type": "string"
          },
          {
           "name": "Vict Descent",
           "type": "string"
          },
          {
           "name": "Weapon Desc",
           "type": "string"
          },
          {
           "name": "Status Desc",
           "type": "string"
          },
          {
           "name": "LOCATION",
           "type": "string"
          },
          {
           "name": "hours",
           "type": "integer"
          },
          {
           "constraints": {
            "enum": [
             "0-17",
             "18-25",
             "26-34",
             "35-44",
             "45-54",
             "55-64",
             "65+"
            ]
           },
           "name": "Grouped Age",
           "ordered": true,
           "type": "any"
          }
         ],
         "pandas_version": "1.4.0",
         "primaryKey": [
          "index"
         ]
        }
       },
       "total_rows": 5,
       "truncation_type": null
      },
      "text/html": [
       "<div>\n",
       "<style scoped>\n",
       "    .dataframe tbody tr th:only-of-type {\n",
       "        vertical-align: middle;\n",
       "    }\n",
       "\n",
       "    .dataframe tbody tr th {\n",
       "        vertical-align: top;\n",
       "    }\n",
       "\n",
       "    .dataframe thead th {\n",
       "        text-align: right;\n",
       "    }\n",
       "</style>\n",
       "<table border=\"1\" class=\"dataframe\">\n",
       "  <thead>\n",
       "    <tr style=\"text-align: right;\">\n",
       "      <th></th>\n",
       "      <th>DR_NO</th>\n",
       "      <th>Date Rptd</th>\n",
       "      <th>DATE OCC</th>\n",
       "      <th>TIME OCC</th>\n",
       "      <th>AREA NAME</th>\n",
       "      <th>Crm Cd Desc</th>\n",
       "      <th>Vict Age</th>\n",
       "      <th>Vict Sex</th>\n",
       "      <th>Vict Descent</th>\n",
       "      <th>Weapon Desc</th>\n",
       "      <th>Status Desc</th>\n",
       "      <th>LOCATION</th>\n",
       "      <th>hours</th>\n",
       "      <th>Grouped Age</th>\n",
       "    </tr>\n",
       "  </thead>\n",
       "  <tbody>\n",
       "    <tr>\n",
       "      <th>0</th>\n",
       "      <td>220314085</td>\n",
       "      <td>2022-07-22</td>\n",
       "      <td>2020-05-12</td>\n",
       "      <td>1110</td>\n",
       "      <td>Southwest</td>\n",
       "      <td>THEFT OF IDENTITY</td>\n",
       "      <td>27</td>\n",
       "      <td>F</td>\n",
       "      <td>B</td>\n",
       "      <td>NaN</td>\n",
       "      <td>Invest Cont</td>\n",
       "      <td>2500 S  SYCAMORE                     AV</td>\n",
       "      <td>11</td>\n",
       "      <td>26-34</td>\n",
       "    </tr>\n",
       "    <tr>\n",
       "      <th>1</th>\n",
       "      <td>222013040</td>\n",
       "      <td>2022-08-06</td>\n",
       "      <td>2020-06-04</td>\n",
       "      <td>1620</td>\n",
       "      <td>Olympic</td>\n",
       "      <td>THEFT OF IDENTITY</td>\n",
       "      <td>60</td>\n",
       "      <td>M</td>\n",
       "      <td>H</td>\n",
       "      <td>NaN</td>\n",
       "      <td>Invest Cont</td>\n",
       "      <td>3300    SAN MARINO                   ST</td>\n",
       "      <td>16</td>\n",
       "      <td>55-64</td>\n",
       "    </tr>\n",
       "    <tr>\n",
       "      <th>2</th>\n",
       "      <td>220614831</td>\n",
       "      <td>2022-08-18</td>\n",
       "      <td>2020-08-17</td>\n",
       "      <td>1200</td>\n",
       "      <td>Hollywood</td>\n",
       "      <td>THEFT OF IDENTITY</td>\n",
       "      <td>28</td>\n",
       "      <td>M</td>\n",
       "      <td>H</td>\n",
       "      <td>NaN</td>\n",
       "      <td>Invest Cont</td>\n",
       "      <td>1900    TRANSIENT</td>\n",
       "      <td>12</td>\n",
       "      <td>26-34</td>\n",
       "    </tr>\n",
       "    <tr>\n",
       "      <th>3</th>\n",
       "      <td>231207725</td>\n",
       "      <td>2023-02-27</td>\n",
       "      <td>2020-01-27</td>\n",
       "      <td>0635</td>\n",
       "      <td>77th Street</td>\n",
       "      <td>THEFT OF IDENTITY</td>\n",
       "      <td>37</td>\n",
       "      <td>M</td>\n",
       "      <td>H</td>\n",
       "      <td>NaN</td>\n",
       "      <td>Invest Cont</td>\n",
       "      <td>6200    4TH                          AV</td>\n",
       "      <td>6</td>\n",
       "      <td>35-44</td>\n",
       "    </tr>\n",
       "    <tr>\n",
       "      <th>4</th>\n",
       "      <td>220213256</td>\n",
       "      <td>2022-07-14</td>\n",
       "      <td>2020-07-14</td>\n",
       "      <td>0900</td>\n",
       "      <td>Rampart</td>\n",
       "      <td>THEFT OF IDENTITY</td>\n",
       "      <td>79</td>\n",
       "      <td>M</td>\n",
       "      <td>B</td>\n",
       "      <td>NaN</td>\n",
       "      <td>Invest Cont</td>\n",
       "      <td>1200 W  7TH                          ST</td>\n",
       "      <td>9</td>\n",
       "      <td>65+</td>\n",
       "    </tr>\n",
       "  </tbody>\n",
       "</table>\n",
       "</div>"
      ],
      "text/plain": [
       "       DR_NO   Date Rptd  ... hours Grouped Age\n",
       "0  220314085  2022-07-22  ...    11       26-34\n",
       "1  222013040  2022-08-06  ...    16       55-64\n",
       "2  220614831  2022-08-18  ...    12       26-34\n",
       "3  231207725  2023-02-27  ...     6       35-44\n",
       "4  220213256  2022-07-14  ...     9         65+\n",
       "\n",
       "[5 rows x 14 columns]"
      ]
     },
     "execution_count": 88,
     "metadata": {
      "application/com.datacamp.data-table.v2+json": {
       "status": "success"
      }
     },
     "output_type": "execute_result"
    }
   ],
   "source": [
    "crimes.head()"
   ]
  },
  {
   "cell_type": "code",
   "execution_count": 89,
   "id": "2d6cad11-9f97-4a30-a21d-54b232686162",
   "metadata": {
    "executionCancelledAt": null,
    "executionTime": 54,
    "lastExecutedAt": 1755539271150,
    "lastExecutedByKernel": "08241967-f914-439f-bcdc-3633c4761a46",
    "lastScheduledRunId": null,
    "lastSuccessfullyExecutedCode": "victim_ages = crimes['Grouped Age'].value_counts()\nprint(victim_ages)",
    "outputsMetadata": {
     "0": {
      "height": 185,
      "type": "stream"
     }
    }
   },
   "outputs": [
    {
     "name": "stdout",
     "output_type": "stream",
     "text": [
      "26-34    47470\n",
      "35-44    42157\n",
      "45-54    28353\n",
      "18-25    28291\n",
      "55-64    20169\n",
      "65+      14747\n",
      "0-17      4528\n",
      "Name: Grouped Age, dtype: int64\n"
     ]
    }
   ],
   "source": [
    "victim_ages = crimes['Grouped Age'].value_counts()\n",
    "print(victim_ages)"
   ]
  }
 ],
 "metadata": {
  "colab": {
   "name": "Welcome to DataCamp Workspaces.ipynb",
   "provenance": []
  },
  "kernelspec": {
   "display_name": "Python 3 (ipykernel)",
   "language": "python",
   "name": "python3"
  },
  "language_info": {
   "codemirror_mode": {
    "name": "ipython",
    "version": 3
   },
   "file_extension": ".py",
   "mimetype": "text/x-python",
   "name": "python",
   "nbconvert_exporter": "python",
   "pygments_lexer": "ipython3",
   "version": "3.8.10"
  }
 },
 "nbformat": 4,
 "nbformat_minor": 5
}
