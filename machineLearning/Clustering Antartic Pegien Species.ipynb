{
 "cells": [
  {
   "cell_type": "markdown",
   "id": "d3fb84f2-0eda-4b73-95c0-5364f83e25bf",
   "metadata": {},
   "source": [
    "You have been asked to support a team of researchers who have been collecting data about penguins in Antartica! The data is available in csv-Format as `penguins.csv`\n",
    "\n",
    "**Origin of this data** : Data were collected and made available by Dr. Kristen Gorman and the Palmer Station, Antarctica LTER, a member of the Long Term Ecological Research Network.\n",
    "\n",
    "**The dataset consists of 5 columns.**\n",
    "\n",
    "Column | Description\n",
    "--- | ---\n",
    "culmen_length_mm | culmen length (mm)\n",
    "culmen_depth_mm | culmen depth (mm)\n",
    "flipper_length_mm | flipper length (mm)\n",
    "body_mass_g | body mass (g)\n",
    "sex | penguin sex\n",
    "\n",
    "Unfortunately, they have not been able to record the species of penguin, but they know that there are **at least three** species that are native to the region: **Adelie**, **Chinstrap**, and **Gentoo**.  Your task is to apply your data science skills to help them identify groups in the dataset!"
   ]
  },
  {
   "cell_type": "code",
   "execution_count": 29,
   "id": "57295d13-5753-4f8d-aa96-cd6815f7cbd9",
   "metadata": {
    "executionCancelledAt": null,
    "executionTime": 28,
    "lastExecutedAt": 1750579673309,
    "lastExecutedByKernel": "da2fcd7d-95c0-43a8-835f-f2694bb193e7",
    "lastScheduledRunId": null,
    "lastSuccessfullyExecutedCode": "# Import Required Packages\nimport pandas as pd\nimport matplotlib.pyplot as plt\nfrom sklearn.cluster import KMeans\nfrom sklearn.preprocessing import StandardScaler\n\n# Loading and examining the dataset\npenguins_df = pd.read_csv(\"penguins.csv\")\npenguins_df.head()",
    "outputsMetadata": {
     "0": {
      "height": 550,
      "tableState": {},
      "type": "dataFrame"
     }
    }
   },
   "outputs": [
    {
     "data": {
      "application/com.datacamp.data-table.v2+json": {
       "table": {
        "data": {
         "body_mass_g": [
          3750,
          3800,
          3250,
          3450,
          3650
         ],
         "culmen_depth_mm": [
          18.7,
          17.4,
          18,
          19.3,
          20.6
         ],
         "culmen_length_mm": [
          39.1,
          39.5,
          40.3,
          36.7,
          39.3
         ],
         "flipper_length_mm": [
          181,
          186,
          195,
          193,
          190
         ],
         "index": [
          0,
          1,
          2,
          3,
          4
         ],
         "sex": [
          "MALE",
          "FEMALE",
          "FEMALE",
          "FEMALE",
          "MALE"
         ]
        },
        "schema": {
         "fields": [
          {
           "name": "index",
           "type": "integer"
          },
          {
           "name": "culmen_length_mm",
           "type": "number"
          },
          {
           "name": "culmen_depth_mm",
           "type": "number"
          },
          {
           "name": "flipper_length_mm",
           "type": "number"
          },
          {
           "name": "body_mass_g",
           "type": "number"
          },
          {
           "name": "sex",
           "type": "string"
          }
         ],
         "pandas_version": "1.4.0",
         "primaryKey": [
          "index"
         ]
        }
       },
       "total_rows": 5,
       "truncation_type": null
      },
      "text/html": [
       "<div>\n",
       "<style scoped>\n",
       "    .dataframe tbody tr th:only-of-type {\n",
       "        vertical-align: middle;\n",
       "    }\n",
       "\n",
       "    .dataframe tbody tr th {\n",
       "        vertical-align: top;\n",
       "    }\n",
       "\n",
       "    .dataframe thead th {\n",
       "        text-align: right;\n",
       "    }\n",
       "</style>\n",
       "<table border=\"1\" class=\"dataframe\">\n",
       "  <thead>\n",
       "    <tr style=\"text-align: right;\">\n",
       "      <th></th>\n",
       "      <th>culmen_length_mm</th>\n",
       "      <th>culmen_depth_mm</th>\n",
       "      <th>flipper_length_mm</th>\n",
       "      <th>body_mass_g</th>\n",
       "      <th>sex</th>\n",
       "    </tr>\n",
       "  </thead>\n",
       "  <tbody>\n",
       "    <tr>\n",
       "      <th>0</th>\n",
       "      <td>39.1</td>\n",
       "      <td>18.7</td>\n",
       "      <td>181.0</td>\n",
       "      <td>3750.0</td>\n",
       "      <td>MALE</td>\n",
       "    </tr>\n",
       "    <tr>\n",
       "      <th>1</th>\n",
       "      <td>39.5</td>\n",
       "      <td>17.4</td>\n",
       "      <td>186.0</td>\n",
       "      <td>3800.0</td>\n",
       "      <td>FEMALE</td>\n",
       "    </tr>\n",
       "    <tr>\n",
       "      <th>2</th>\n",
       "      <td>40.3</td>\n",
       "      <td>18.0</td>\n",
       "      <td>195.0</td>\n",
       "      <td>3250.0</td>\n",
       "      <td>FEMALE</td>\n",
       "    </tr>\n",
       "    <tr>\n",
       "      <th>3</th>\n",
       "      <td>36.7</td>\n",
       "      <td>19.3</td>\n",
       "      <td>193.0</td>\n",
       "      <td>3450.0</td>\n",
       "      <td>FEMALE</td>\n",
       "    </tr>\n",
       "    <tr>\n",
       "      <th>4</th>\n",
       "      <td>39.3</td>\n",
       "      <td>20.6</td>\n",
       "      <td>190.0</td>\n",
       "      <td>3650.0</td>\n",
       "      <td>MALE</td>\n",
       "    </tr>\n",
       "  </tbody>\n",
       "</table>\n",
       "</div>"
      ],
      "text/plain": [
       "   culmen_length_mm  culmen_depth_mm  flipper_length_mm  body_mass_g     sex\n",
       "0              39.1             18.7              181.0       3750.0    MALE\n",
       "1              39.5             17.4              186.0       3800.0  FEMALE\n",
       "2              40.3             18.0              195.0       3250.0  FEMALE\n",
       "3              36.7             19.3              193.0       3450.0  FEMALE\n",
       "4              39.3             20.6              190.0       3650.0    MALE"
      ]
     },
     "execution_count": 29,
     "metadata": {
      "application/com.datacamp.data-table.v2+json": {
       "status": "success"
      }
     },
     "output_type": "execute_result"
    }
   ],
   "source": [
    "# Import Required Packages\n",
    "import pandas as pd\n",
    "import matplotlib.pyplot as plt\n",
    "from sklearn.cluster import KMeans\n",
    "from sklearn.preprocessing import StandardScaler\n",
    "\n",
    "# Loading and examining the dataset\n",
    "penguins_df = pd.read_csv(\"penguins.csv\")\n",
    "penguins_df.head()"
   ]
  },
  {
   "cell_type": "code",
   "execution_count": 30,
   "id": "25c6e3d3-97f4-4d29-93f0-77f5276c8d69",
   "metadata": {
    "executionCancelledAt": null,
    "executionTime": 53,
    "lastExecutedAt": 1750579673362,
    "lastExecutedByKernel": "da2fcd7d-95c0-43a8-835f-f2694bb193e7",
    "lastScheduledRunId": null,
    "lastSuccessfullyExecutedCode": "penguins_df.info()",
    "outputsMetadata": {
     "0": {
      "height": 269,
      "type": "stream"
     }
    }
   },
   "outputs": [
    {
     "name": "stdout",
     "output_type": "stream",
     "text": [
      "<class 'pandas.core.frame.DataFrame'>\n",
      "RangeIndex: 332 entries, 0 to 331\n",
      "Data columns (total 5 columns):\n",
      " #   Column             Non-Null Count  Dtype  \n",
      "---  ------             --------------  -----  \n",
      " 0   culmen_length_mm   332 non-null    float64\n",
      " 1   culmen_depth_mm    332 non-null    float64\n",
      " 2   flipper_length_mm  332 non-null    float64\n",
      " 3   body_mass_g        332 non-null    float64\n",
      " 4   sex                332 non-null    object \n",
      "dtypes: float64(4), object(1)\n",
      "memory usage: 13.1+ KB\n"
     ]
    }
   ],
   "source": [
    "penguins_df.info()"
   ]
  },
  {
   "cell_type": "code",
   "execution_count": 31,
   "id": "6eb4e553-d035-4637-8657-529c40dae717",
   "metadata": {
    "executionCancelledAt": null,
    "executionTime": 49,
    "lastExecutedAt": 1750579673411,
    "lastExecutedByKernel": "da2fcd7d-95c0-43a8-835f-f2694bb193e7",
    "lastScheduledRunId": null,
    "lastSuccessfullyExecutedCode": "penguins_df = pd.get_dummies(penguins_df, dtype='int')"
   },
   "outputs": [],
   "source": [
    "penguins_df = pd.get_dummies(penguins_df, dtype='int')"
   ]
  },
  {
   "cell_type": "code",
   "execution_count": 32,
   "id": "3ba32290-c793-492a-8a3c-ddf838248f0b",
   "metadata": {
    "executionCancelledAt": null,
    "executionTime": 51,
    "lastExecutedAt": 1750579673463,
    "lastExecutedByKernel": "da2fcd7d-95c0-43a8-835f-f2694bb193e7",
    "lastScheduledRunId": null,
    "lastSuccessfullyExecutedCode": "scaler = StandardScaler()\nx = scaler.fit_transform(penguins_df)"
   },
   "outputs": [],
   "source": [
    "scaler = StandardScaler()\n",
    "x = scaler.fit_transform(penguins_df)"
   ]
  },
  {
   "cell_type": "code",
   "execution_count": 33,
   "id": "254ef599-99cb-46fa-bf86-809bc486fd51",
   "metadata": {
    "executionCancelledAt": null,
    "executionTime": 50,
    "lastExecutedAt": 1750579673515,
    "lastExecutedByKernel": "da2fcd7d-95c0-43a8-835f-f2694bb193e7",
    "lastScheduledRunId": null,
    "lastSuccessfullyExecutedCode": "penguins_preprocessed = pd.DataFrame(data=x, columns=penguins_df.columns)"
   },
   "outputs": [],
   "source": [
    "penguins_preprocessed = pd.DataFrame(data=x, columns=penguins_df.columns)"
   ]
  },
  {
   "cell_type": "code",
   "execution_count": 34,
   "id": "011f7a38-0c21-4d03-854a-a0573cc5d21d",
   "metadata": {
    "executionCancelledAt": null,
    "executionTime": 62,
    "lastExecutedAt": 1750579673577,
    "lastExecutedByKernel": "da2fcd7d-95c0-43a8-835f-f2694bb193e7",
    "lastScheduledRunId": null,
    "lastSuccessfullyExecutedCode": "penguins_preprocessed.head()",
    "outputsMetadata": {
     "0": {
      "height": 550,
      "tableState": {},
      "type": "dataFrame"
     }
    }
   },
   "outputs": [
    {
     "data": {
      "application/com.datacamp.data-table.v2+json": {
       "table": {
        "data": {
         "body_mass_g": [
          -0.5669480132,
          -0.504847472,
          -1.1879534252,
          -0.9395512604,
          -0.6911490956
         ],
         "culmen_depth_mm": [
          0.7903598717,
          0.1261867396,
          0.4327281852,
          1.0969013172,
          1.7610744492
         ],
         "culmen_length_mm": [
          -0.9039058557,
          -0.8304337676,
          -0.6834895912,
          -1.3447383847,
          -0.8671698116
         ],
         "flipper_length_mm": [
          -1.4253417867,
          -1.0685765023,
          -0.4263989905,
          -0.5691051042,
          -0.7831642748
         ],
         "index": [
          0,
          1,
          2,
          3,
          4
         ],
         "sex_FEMALE": [
          -0.9939939397,
          1.0060423511,
          1.0060423511,
          1.0060423511,
          -0.9939939397
         ],
         "sex_MALE": [
          0.9939939397,
          -1.0060423511,
          -1.0060423511,
          -1.0060423511,
          0.9939939397
         ]
        },
        "schema": {
         "fields": [
          {
           "name": "index",
           "type": "integer"
          },
          {
           "name": "culmen_length_mm",
           "type": "number"
          },
          {
           "name": "culmen_depth_mm",
           "type": "number"
          },
          {
           "name": "flipper_length_mm",
           "type": "number"
          },
          {
           "name": "body_mass_g",
           "type": "number"
          },
          {
           "name": "sex_FEMALE",
           "type": "number"
          },
          {
           "name": "sex_MALE",
           "type": "number"
          }
         ],
         "pandas_version": "1.4.0",
         "primaryKey": [
          "index"
         ]
        }
       },
       "total_rows": 5,
       "truncation_type": null
      },
      "text/html": [
       "<div>\n",
       "<style scoped>\n",
       "    .dataframe tbody tr th:only-of-type {\n",
       "        vertical-align: middle;\n",
       "    }\n",
       "\n",
       "    .dataframe tbody tr th {\n",
       "        vertical-align: top;\n",
       "    }\n",
       "\n",
       "    .dataframe thead th {\n",
       "        text-align: right;\n",
       "    }\n",
       "</style>\n",
       "<table border=\"1\" class=\"dataframe\">\n",
       "  <thead>\n",
       "    <tr style=\"text-align: right;\">\n",
       "      <th></th>\n",
       "      <th>culmen_length_mm</th>\n",
       "      <th>culmen_depth_mm</th>\n",
       "      <th>flipper_length_mm</th>\n",
       "      <th>body_mass_g</th>\n",
       "      <th>sex_FEMALE</th>\n",
       "      <th>sex_MALE</th>\n",
       "    </tr>\n",
       "  </thead>\n",
       "  <tbody>\n",
       "    <tr>\n",
       "      <th>0</th>\n",
       "      <td>-0.903906</td>\n",
       "      <td>0.790360</td>\n",
       "      <td>-1.425342</td>\n",
       "      <td>-0.566948</td>\n",
       "      <td>-0.993994</td>\n",
       "      <td>0.993994</td>\n",
       "    </tr>\n",
       "    <tr>\n",
       "      <th>1</th>\n",
       "      <td>-0.830434</td>\n",
       "      <td>0.126187</td>\n",
       "      <td>-1.068577</td>\n",
       "      <td>-0.504847</td>\n",
       "      <td>1.006042</td>\n",
       "      <td>-1.006042</td>\n",
       "    </tr>\n",
       "    <tr>\n",
       "      <th>2</th>\n",
       "      <td>-0.683490</td>\n",
       "      <td>0.432728</td>\n",
       "      <td>-0.426399</td>\n",
       "      <td>-1.187953</td>\n",
       "      <td>1.006042</td>\n",
       "      <td>-1.006042</td>\n",
       "    </tr>\n",
       "    <tr>\n",
       "      <th>3</th>\n",
       "      <td>-1.344738</td>\n",
       "      <td>1.096901</td>\n",
       "      <td>-0.569105</td>\n",
       "      <td>-0.939551</td>\n",
       "      <td>1.006042</td>\n",
       "      <td>-1.006042</td>\n",
       "    </tr>\n",
       "    <tr>\n",
       "      <th>4</th>\n",
       "      <td>-0.867170</td>\n",
       "      <td>1.761074</td>\n",
       "      <td>-0.783164</td>\n",
       "      <td>-0.691149</td>\n",
       "      <td>-0.993994</td>\n",
       "      <td>0.993994</td>\n",
       "    </tr>\n",
       "  </tbody>\n",
       "</table>\n",
       "</div>"
      ],
      "text/plain": [
       "   culmen_length_mm  culmen_depth_mm  ...  sex_FEMALE  sex_MALE\n",
       "0         -0.903906         0.790360  ...   -0.993994  0.993994\n",
       "1         -0.830434         0.126187  ...    1.006042 -1.006042\n",
       "2         -0.683490         0.432728  ...    1.006042 -1.006042\n",
       "3         -1.344738         1.096901  ...    1.006042 -1.006042\n",
       "4         -0.867170         1.761074  ...   -0.993994  0.993994\n",
       "\n",
       "[5 rows x 6 columns]"
      ]
     },
     "execution_count": 34,
     "metadata": {
      "application/com.datacamp.data-table.v2+json": {
       "status": "success"
      }
     },
     "output_type": "execute_result"
    }
   ],
   "source": [
    "penguins_preprocessed.head()"
   ]
  },
  {
   "cell_type": "code",
   "execution_count": 35,
   "id": "00442ab2-1d4f-4e21-9955-caa5f32cca88",
   "metadata": {
    "executionCancelledAt": null,
    "executionTime": 310,
    "lastExecutedAt": 1750579673887,
    "lastExecutedByKernel": "da2fcd7d-95c0-43a8-835f-f2694bb193e7",
    "lastScheduledRunId": null,
    "lastSuccessfullyExecutedCode": "inertia = []\nfor k in range(1, 10):\n    kmeans = KMeans(n_clusters=k, random_state=42).fit(penguins_preprocessed)\n    inertia.append(kmeans.inertia_)\n\nplt.plot(range(1,10), inertia, marker='o')\nplt.xlabel(\"Number of clusters\")\nplt.ylabel(\"inertia\")\nplt.show()"
   },
   "outputs": [
    {
     "data": {
      "image/png": "[encoded data removed]",
      "text/plain": [
       "<Figure size 640x480 with 1 Axes>"
      ]
     },
     "metadata": {
      "image/png": {
       "height": 432,
       "width": 579
      }
     },
     "output_type": "display_data"
    }
   ],
   "source": [
    "inertia = []\n",
    "for k in range(1, 10):\n",
    "    kmeans = KMeans(n_clusters=k, random_state=42).fit(penguins_preprocessed)\n",
    "    inertia.append(kmeans.inertia_)\n",
    "\n",
    "plt.plot(range(1,10), inertia, marker='o')\n",
    "plt.xlabel(\"Number of clusters\")\n",
    "plt.ylabel(\"inertia\")\n",
    "plt.show()"
   ]
  },
  {
   "cell_type": "code",
   "execution_count": 36,
   "id": "8a53b638-6b14-4ca7-8584-9af24d9338f1",
   "metadata": {
    "executionCancelledAt": null,
    "executionTime": 55,
    "lastExecutedAt": 1750579673943,
    "lastExecutedByKernel": "da2fcd7d-95c0-43a8-835f-f2694bb193e7",
    "lastScheduledRunId": null,
    "lastSuccessfullyExecutedCode": "kmeans = KMeans(n_clusters=4, random_state=42).fit(penguins_preprocessed)\npenguins_df['label'] = kmeans.labels_"
   },
   "outputs": [],
   "source": [
    "kmeans = KMeans(n_clusters=4, random_state=42).fit(penguins_preprocessed)\n",
    "penguins_df['label'] = kmeans.labels_"
   ]
  },
  {
   "cell_type": "code",
   "execution_count": 37,
   "id": "069b2d34-a8ec-46b8-a318-2eb6fa293ff7",
   "metadata": {
    "executionCancelledAt": null,
    "executionTime": 65,
    "lastExecutedAt": 1750579674009,
    "lastExecutedByKernel": "da2fcd7d-95c0-43a8-835f-f2694bb193e7",
    "lastScheduledRunId": null,
    "lastSuccessfullyExecutedCode": "penguins_df.head()",
    "outputsMetadata": {
     "0": {
      "height": 50,
      "tableState": {
       "customFilter": {
        "const": {
         "type": "boolean",
         "valid": true,
         "value": true
        },
        "id": "98d9ab8c-3422-46b4-a6df-9d66fc79f935",
        "nodeType": "const"
       }
      },
      "type": "dataFrame"
     }
    }
   },
   "outputs": [
    {
     "data": {
      "application/com.datacamp.data-table.v2+json": {
       "table": {
        "data": {
         "body_mass_g": [
          3750,
          3800,
          3250,
          3450,
          3650
         ],
         "culmen_depth_mm": [
          18.7,
          17.4,
          18,
          19.3,
          20.6
         ],
         "culmen_length_mm": [
          39.1,
          39.5,
          40.3,
          36.7,
          39.3
         ],
         "flipper_length_mm": [
          181,
          186,
          195,
          193,
          190
         ],
         "index": [
          0,
          1,
          2,
          3,
          4
         ],
         "label": [
          0,
          1,
          1,
          1,
          0
         ],
         "sex_FEMALE": [
          0,
          1,
          1,
          1,
          0
         ],
         "sex_MALE": [
          1,
          0,
          0,
          0,
          1
         ]
        },
        "schema": {
         "fields": [
          {
           "name": "index",
           "type": "integer"
          },
          {
           "name": "culmen_length_mm",
           "type": "number"
          },
          {
           "name": "culmen_depth_mm",
           "type": "number"
          },
          {
           "name": "flipper_length_mm",
           "type": "number"
          },
          {
           "name": "body_mass_g",
           "type": "number"
          },
          {
           "name": "sex_FEMALE",
           "type": "integer"
          },
          {
           "name": "sex_MALE",
           "type": "integer"
          },
          {
           "name": "label",
           "type": "integer"
          }
         ],
         "pandas_version": "1.4.0",
         "primaryKey": [
          "index"
         ]
        }
       },
       "total_rows": 5,
       "truncation_type": null
      },
      "text/html": [
       "<div>\n",
       "<style scoped>\n",
       "    .dataframe tbody tr th:only-of-type {\n",
       "        vertical-align: middle;\n",
       "    }\n",
       "\n",
       "    .dataframe tbody tr th {\n",
       "        vertical-align: top;\n",
       "    }\n",
       "\n",
       "    .dataframe thead th {\n",
       "        text-align: right;\n",
       "    }\n",
       "</style>\n",
       "<table border=\"1\" class=\"dataframe\">\n",
       "  <thead>\n",
       "    <tr style=\"text-align: right;\">\n",
       "      <th></th>\n",
       "      <th>culmen_length_mm</th>\n",
       "      <th>culmen_depth_mm</th>\n",
       "      <th>flipper_length_mm</th>\n",
       "      <th>body_mass_g</th>\n",
       "      <th>sex_FEMALE</th>\n",
       "      <th>sex_MALE</th>\n",
       "      <th>label</th>\n",
       "    </tr>\n",
       "  </thead>\n",
       "  <tbody>\n",
       "    <tr>\n",
       "      <th>0</th>\n",
       "      <td>39.1</td>\n",
       "      <td>18.7</td>\n",
       "      <td>181.0</td>\n",
       "      <td>3750.0</td>\n",
       "      <td>0</td>\n",
       "      <td>1</td>\n",
       "      <td>0</td>\n",
       "    </tr>\n",
       "    <tr>\n",
       "      <th>1</th>\n",
       "      <td>39.5</td>\n",
       "      <td>17.4</td>\n",
       "      <td>186.0</td>\n",
       "      <td>3800.0</td>\n",
       "      <td>1</td>\n",
       "      <td>0</td>\n",
       "      <td>1</td>\n",
       "    </tr>\n",
       "    <tr>\n",
       "      <th>2</th>\n",
       "      <td>40.3</td>\n",
       "      <td>18.0</td>\n",
       "      <td>195.0</td>\n",
       "      <td>3250.0</td>\n",
       "      <td>1</td>\n",
       "      <td>0</td>\n",
       "      <td>1</td>\n",
       "    </tr>\n",
       "    <tr>\n",
       "      <th>3</th>\n",
       "      <td>36.7</td>\n",
       "      <td>19.3</td>\n",
       "      <td>193.0</td>\n",
       "      <td>3450.0</td>\n",
       "      <td>1</td>\n",
       "      <td>0</td>\n",
       "      <td>1</td>\n",
       "    </tr>\n",
       "    <tr>\n",
       "      <th>4</th>\n",
       "      <td>39.3</td>\n",
       "      <td>20.6</td>\n",
       "      <td>190.0</td>\n",
       "      <td>3650.0</td>\n",
       "      <td>0</td>\n",
       "      <td>1</td>\n",
       "      <td>0</td>\n",
       "    </tr>\n",
       "  </tbody>\n",
       "</table>\n",
       "</div>"
      ],
      "text/plain": [
       "   culmen_length_mm  culmen_depth_mm  ...  sex_MALE  label\n",
       "0              39.1             18.7  ...         1      0\n",
       "1              39.5             17.4  ...         0      1\n",
       "2              40.3             18.0  ...         0      1\n",
       "3              36.7             19.3  ...         0      1\n",
       "4              39.3             20.6  ...         1      0\n",
       "\n",
       "[5 rows x 7 columns]"
      ]
     },
     "execution_count": 37,
     "metadata": {
      "application/com.datacamp.data-table.v2+json": {
       "status": "success"
      }
     },
     "output_type": "execute_result"
    }
   ],
   "source": [
    "penguins_df.head()"
   ]
  },
  {
   "cell_type": "code",
   "execution_count": 38,
   "id": "f4a535c2-fff1-45f4-9e56-b14f98971156",
   "metadata": {
    "executionCancelledAt": null,
    "executionTime": 178,
    "lastExecutedAt": 1750579674187,
    "lastExecutedByKernel": "da2fcd7d-95c0-43a8-835f-f2694bb193e7",
    "lastScheduledRunId": null,
    "lastSuccessfullyExecutedCode": "plt.scatter(penguins_df['label'], penguins_df['culmen_length_mm'], c=kmeans.labels_, cmap='viridis')\nplt.xlabel('cluster')\nplt.ylabel('culmen_length_mm')\nplt.xticks(range(int(penguins_df['label'].min()), int(penguins_df['label'].max())+1))\nplt.show()"
   },
   "outputs": [
    {
     "data": {
      "image/png": "[encoded data removed]",
      "text/plain": [
       "<Figure size 640x480 with 1 Axes>"
      ]
     },
     "metadata": {
      "image/png": {
       "height": 432,
       "width": 562
      }
     },
     "output_type": "display_data"
    }
   ],
   "source": [
    "plt.scatter(penguins_df['label'], penguins_df['culmen_length_mm'], c=kmeans.labels_, cmap='viridis')\n",
    "plt.xlabel('cluster')\n",
    "plt.ylabel('culmen_length_mm')\n",
    "plt.xticks(range(int(penguins_df['label'].min()), int(penguins_df['label'].max())+1))\n",
    "plt.show()"
   ]
  },
  {
   "cell_type": "code",
   "execution_count": 39,
   "id": "3c58e83b-9afe-411d-842c-c79be6b0a3fc",
   "metadata": {
    "executionCancelledAt": null,
    "executionTime": 66,
    "lastExecutedAt": 1750579674253,
    "lastExecutedByKernel": "da2fcd7d-95c0-43a8-835f-f2694bb193e7",
    "lastScheduledRunId": null,
    "lastSuccessfullyExecutedCode": "numeric_columns = ['culmen_length_mm', 'culmen_depth_mm', 'flipper_length_mm','label']\nstat_penguins = penguins_df[numeric_columns].groupby('label').mean()\nstat_penguins",
    "outputsMetadata": {
     "0": {
      "height": 50,
      "tableState": {
       "customFilter": {
        "const": {
         "type": "boolean",
         "valid": true,
         "value": true
        },
        "id": "98d9ab8c-3422-46b4-a6df-9d66fc79f935",
        "nodeType": "const"
       }
      },
      "type": "dataFrame"
     }
    }
   },
   "outputs": [
    {
     "data": {
      "application/com.datacamp.data-table.v2+json": {
       "table": {
        "data": {
         "culmen_depth_mm": [
          19.1113207547,
          17.6112149533,
          15.7180327869,
          14.2379310345
         ],
         "culmen_length_mm": [
          43.8783018868,
          40.2177570093,
          49.4737704918,
          45.5637931034
         ],
         "flipper_length_mm": [
          194.7641509434,
          189.046728972,
          221.5409836066,
          212.7068965517
         ],
         "label": [
          0,
          1,
          2,
          3
         ]
        },
        "schema": {
         "fields": [
          {
           "name": "label",
           "type": "integer"
          },
          {
           "name": "culmen_length_mm",
           "type": "number"
          },
          {
           "name": "culmen_depth_mm",
           "type": "number"
          },
          {
           "name": "flipper_length_mm",
           "type": "number"
          }
         ],
         "pandas_version": "1.4.0",
         "primaryKey": [
          "label"
         ]
        }
       },
       "total_rows": 4,
       "truncation_type": null
      },
      "text/html": [
       "<div>\n",
       "<style scoped>\n",
       "    .dataframe tbody tr th:only-of-type {\n",
       "        vertical-align: middle;\n",
       "    }\n",
       "\n",
       "    .dataframe tbody tr th {\n",
       "        vertical-align: top;\n",
       "    }\n",
       "\n",
       "    .dataframe thead th {\n",
       "        text-align: right;\n",
       "    }\n",
       "</style>\n",
       "<table border=\"1\" class=\"dataframe\">\n",
       "  <thead>\n",
       "    <tr style=\"text-align: right;\">\n",
       "      <th></th>\n",
       "      <th>culmen_length_mm</th>\n",
       "      <th>culmen_depth_mm</th>\n",
       "      <th>flipper_length_mm</th>\n",
       "    </tr>\n",
       "    <tr>\n",
       "      <th>label</th>\n",
       "      <th></th>\n",
       "      <th></th>\n",
       "      <th></th>\n",
       "    </tr>\n",
       "  </thead>\n",
       "  <tbody>\n",
       "    <tr>\n",
       "      <th>0</th>\n",
       "      <td>43.878302</td>\n",
       "      <td>19.111321</td>\n",
       "      <td>194.764151</td>\n",
       "    </tr>\n",
       "    <tr>\n",
       "      <th>1</th>\n",
       "      <td>40.217757</td>\n",
       "      <td>17.611215</td>\n",
       "      <td>189.046729</td>\n",
       "    </tr>\n",
       "    <tr>\n",
       "      <th>2</th>\n",
       "      <td>49.473770</td>\n",
       "      <td>15.718033</td>\n",
       "      <td>221.540984</td>\n",
       "    </tr>\n",
       "    <tr>\n",
       "      <th>3</th>\n",
       "      <td>45.563793</td>\n",
       "      <td>14.237931</td>\n",
       "      <td>212.706897</td>\n",
       "    </tr>\n",
       "  </tbody>\n",
       "</table>\n",
       "</div>"
      ],
      "text/plain": [
       "       culmen_length_mm  culmen_depth_mm  flipper_length_mm\n",
       "label                                                      \n",
       "0             43.878302        19.111321         194.764151\n",
       "1             40.217757        17.611215         189.046729\n",
       "2             49.473770        15.718033         221.540984\n",
       "3             45.563793        14.237931         212.706897"
      ]
     },
     "execution_count": 39,
     "metadata": {
      "application/com.datacamp.data-table.v2+json": {
       "status": "success"
      }
     },
     "output_type": "execute_result"
    }
   ],
   "source": [
    "numeric_columns = ['culmen_length_mm', 'culmen_depth_mm', 'flipper_length_mm','label']\n",
    "stat_penguins = penguins_df[numeric_columns].groupby('label').mean()\n",
    "stat_penguins"
   ]
  }
 ],
 "metadata": {
  "colab": {
   "name": "Welcome to DataCamp Workspaces.ipynb",
   "provenance": []
  },
  "editor": "DataLab",
  "kernelspec": {
   "display_name": "Python 3 (ipykernel)",
   "language": "python",
   "name": "python3"
  },
  "language_info": {
   "codemirror_mode": {
    "name": "ipython",
    "version": 3
   },
   "file_extension": ".py",
   "mimetype": "text/x-python",
   "name": "python",
   "nbconvert_exporter": "python",
   "pygments_lexer": "ipython3",
   "version": "3.8.10"
  }
 },
 "nbformat": 4,
 "nbformat_minor": 5
}
