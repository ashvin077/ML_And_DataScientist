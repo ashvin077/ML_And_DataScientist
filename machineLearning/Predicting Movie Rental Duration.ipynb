{
 "cells": [
  {
   "cell_type": "code",
   "execution_count": 30,
   "id": "a7ede566-910a-445c-b11a-68d192ac8506",
   "metadata": {
    "executionCancelledAt": null,
    "executionTime": 13,
    "lastExecutedAt": 1751086286460,
    "lastExecutedByKernel": "c2af7e91-b39c-429e-9825-f5a7dcfef77f",
    "lastScheduledRunId": null,
    "lastSuccessfullyExecutedCode": "import pandas as pd\nimport numpy as np\n\nfrom sklearn.model_selection import train_test_split\nfrom sklearn.metrics import mean_squared_error\n\n# Import any additional modules and start coding below"
   },
   "outputs": [],
   "source": [
    "import pandas as pd\n",
    "import numpy as np\n",
    "\n",
    "from sklearn.model_selection import train_test_split\n",
    "from sklearn.metrics import mean_squared_error\n",
    "\n",
    "# Import any additional modules and start coding below"
   ]
  },
  {
   "cell_type": "code",
   "execution_count": 31,
   "id": "90a64d60-80ff-4a7a-b297-bb5145e3f73a",
   "metadata": {
    "executionCancelledAt": null,
    "executionTime": 63,
    "lastExecutedAt": 1751086286523,
    "lastExecutedByKernel": "c2af7e91-b39c-429e-9825-f5a7dcfef77f",
    "lastScheduledRunId": null,
    "lastSuccessfullyExecutedCode": "df_rental = pd.read_csv(\"rental_info.csv\")"
   },
   "outputs": [],
   "source": [
    "df_rental = pd.read_csv(\"rental_info.csv\")"
   ]
  },
  {
   "cell_type": "code",
   "execution_count": 32,
   "id": "05350234-9ac2-4e92-b515-d60c5c7e87c3",
   "metadata": {
    "executionCancelledAt": null,
    "executionTime": null,
    "lastExecutedAt": null,
    "lastExecutedByKernel": null,
    "lastScheduledRunId": null,
    "lastSuccessfullyExecutedCode": null,
    "outputsMetadata": {
     "0": {
      "height": 550,
      "tableState": {},
      "type": "dataFrame"
     }
    }
   },
   "outputs": [
    {
     "data": {
      "application/com.datacamp.data-table.v2+json": {
       "table": {
        "data": {
         "NC-17": [
          0,
          0,
          0,
          0,
          0
         ],
         "PG": [
          0,
          0,
          0,
          0,
          0
         ],
         "PG-13": [
          0,
          0,
          0,
          0,
          0
         ],
         "R": [
          1,
          1,
          1,
          1,
          1
         ],
         "amount": [
          2.99,
          2.99,
          2.99,
          2.99,
          2.99
         ],
         "amount_2": [
          8.9401,
          8.9401,
          8.9401,
          8.9401,
          8.9401
         ],
         "index": [
          0,
          1,
          2,
          3,
          4
         ],
         "length": [
          126,
          126,
          126,
          126,
          126
         ],
         "length_2": [
          15876,
          15876,
          15876,
          15876,
          15876
         ],
         "release_year": [
          2005,
          2005,
          2005,
          2005,
          2005
         ],
         "rental_date": [
          "2005-05-25 02:54:33+00:00",
          "2005-06-15 23:19:16+00:00",
          "2005-07-10 04:27:45+00:00",
          "2005-07-31 12:06:41+00:00",
          "2005-08-19 12:30:04+00:00"
         ],
         "rental_rate": [
          2.99,
          2.99,
          2.99,
          2.99,
          2.99
         ],
         "rental_rate_2": [
          8.9401,
          8.9401,
          8.9401,
          8.9401,
          8.9401
         ],
         "replacement_cost": [
          16.99,
          16.99,
          16.99,
          16.99,
          16.99
         ],
         "return_date": [
          "2005-05-28 23:40:33+00:00",
          "2005-06-18 19:24:16+00:00",
          "2005-07-17 10:11:45+00:00",
          "2005-08-02 14:30:41+00:00",
          "2005-08-23 13:35:04+00:00"
         ],
         "special_features": [
          "{Trailers,\"Behind the Scenes\"}",
          "{Trailers,\"Behind the Scenes\"}",
          "{Trailers,\"Behind the Scenes\"}",
          "{Trailers,\"Behind the Scenes\"}",
          "{Trailers,\"Behind the Scenes\"}"
         ]
        },
        "schema": {
         "fields": [
          {
           "name": "index",
           "type": "integer"
          },
          {
           "name": "rental_date",
           "type": "string"
          },
          {
           "name": "return_date",
           "type": "string"
          },
          {
           "name": "amount",
           "type": "number"
          },
          {
           "name": "release_year",
           "type": "number"
          },
          {
           "name": "rental_rate",
           "type": "number"
          },
          {
           "name": "length",
           "type": "number"
          },
          {
           "name": "replacement_cost",
           "type": "number"
          },
          {
           "name": "special_features",
           "type": "string"
          },
          {
           "name": "NC-17",
           "type": "integer"
          },
          {
           "name": "PG",
           "type": "integer"
          },
          {
           "name": "PG-13",
           "type": "integer"
          },
          {
           "name": "R",
           "type": "integer"
          },
          {
           "name": "amount_2",
           "type": "number"
          },
          {
           "name": "length_2",
           "type": "number"
          },
          {
           "name": "rental_rate_2",
           "type": "number"
          }
         ],
         "pandas_version": "1.4.0",
         "primaryKey": [
          "index"
         ]
        }
       },
       "total_rows": 5,
       "truncation_type": null
      },
      "text/html": [
       "<div>\n",
       "<style scoped>\n",
       "    .dataframe tbody tr th:only-of-type {\n",
       "        vertical-align: middle;\n",
       "    }\n",
       "\n",
       "    .dataframe tbody tr th {\n",
       "        vertical-align: top;\n",
       "    }\n",
       "\n",
       "    .dataframe thead th {\n",
       "        text-align: right;\n",
       "    }\n",
       "</style>\n",
       "<table border=\"1\" class=\"dataframe\">\n",
       "  <thead>\n",
       "    <tr style=\"text-align: right;\">\n",
       "      <th></th>\n",
       "      <th>rental_date</th>\n",
       "      <th>return_date</th>\n",
       "      <th>amount</th>\n",
       "      <th>release_year</th>\n",
       "      <th>rental_rate</th>\n",
       "      <th>length</th>\n",
       "      <th>replacement_cost</th>\n",
       "      <th>special_features</th>\n",
       "      <th>NC-17</th>\n",
       "      <th>PG</th>\n",
       "      <th>PG-13</th>\n",
       "      <th>R</th>\n",
       "      <th>amount_2</th>\n",
       "      <th>length_2</th>\n",
       "      <th>rental_rate_2</th>\n",
       "    </tr>\n",
       "  </thead>\n",
       "  <tbody>\n",
       "    <tr>\n",
       "      <th>0</th>\n",
       "      <td>2005-05-25 02:54:33+00:00</td>\n",
       "      <td>2005-05-28 23:40:33+00:00</td>\n",
       "      <td>2.99</td>\n",
       "      <td>2005.0</td>\n",
       "      <td>2.99</td>\n",
       "      <td>126.0</td>\n",
       "      <td>16.99</td>\n",
       "      <td>{Trailers,\"Behind the Scenes\"}</td>\n",
       "      <td>0</td>\n",
       "      <td>0</td>\n",
       "      <td>0</td>\n",
       "      <td>1</td>\n",
       "      <td>8.9401</td>\n",
       "      <td>15876.0</td>\n",
       "      <td>8.9401</td>\n",
       "    </tr>\n",
       "    <tr>\n",
       "      <th>1</th>\n",
       "      <td>2005-06-15 23:19:16+00:00</td>\n",
       "      <td>2005-06-18 19:24:16+00:00</td>\n",
       "      <td>2.99</td>\n",
       "      <td>2005.0</td>\n",
       "      <td>2.99</td>\n",
       "      <td>126.0</td>\n",
       "      <td>16.99</td>\n",
       "      <td>{Trailers,\"Behind the Scenes\"}</td>\n",
       "      <td>0</td>\n",
       "      <td>0</td>\n",
       "      <td>0</td>\n",
       "      <td>1</td>\n",
       "      <td>8.9401</td>\n",
       "      <td>15876.0</td>\n",
       "      <td>8.9401</td>\n",
       "    </tr>\n",
       "    <tr>\n",
       "      <th>2</th>\n",
       "      <td>2005-07-10 04:27:45+00:00</td>\n",
       "      <td>2005-07-17 10:11:45+00:00</td>\n",
       "      <td>2.99</td>\n",
       "      <td>2005.0</td>\n",
       "      <td>2.99</td>\n",
       "      <td>126.0</td>\n",
       "      <td>16.99</td>\n",
       "      <td>{Trailers,\"Behind the Scenes\"}</td>\n",
       "      <td>0</td>\n",
       "      <td>0</td>\n",
       "      <td>0</td>\n",
       "      <td>1</td>\n",
       "      <td>8.9401</td>\n",
       "      <td>15876.0</td>\n",
       "      <td>8.9401</td>\n",
       "    </tr>\n",
       "    <tr>\n",
       "      <th>3</th>\n",
       "      <td>2005-07-31 12:06:41+00:00</td>\n",
       "      <td>2005-08-02 14:30:41+00:00</td>\n",
       "      <td>2.99</td>\n",
       "      <td>2005.0</td>\n",
       "      <td>2.99</td>\n",
       "      <td>126.0</td>\n",
       "      <td>16.99</td>\n",
       "      <td>{Trailers,\"Behind the Scenes\"}</td>\n",
       "      <td>0</td>\n",
       "      <td>0</td>\n",
       "      <td>0</td>\n",
       "      <td>1</td>\n",
       "      <td>8.9401</td>\n",
       "      <td>15876.0</td>\n",
       "      <td>8.9401</td>\n",
       "    </tr>\n",
       "    <tr>\n",
       "      <th>4</th>\n",
       "      <td>2005-08-19 12:30:04+00:00</td>\n",
       "      <td>2005-08-23 13:35:04+00:00</td>\n",
       "      <td>2.99</td>\n",
       "      <td>2005.0</td>\n",
       "      <td>2.99</td>\n",
       "      <td>126.0</td>\n",
       "      <td>16.99</td>\n",
       "      <td>{Trailers,\"Behind the Scenes\"}</td>\n",
       "      <td>0</td>\n",
       "      <td>0</td>\n",
       "      <td>0</td>\n",
       "      <td>1</td>\n",
       "      <td>8.9401</td>\n",
       "      <td>15876.0</td>\n",
       "      <td>8.9401</td>\n",
       "    </tr>\n",
       "  </tbody>\n",
       "</table>\n",
       "</div>"
      ],
      "text/plain": [
       "                 rental_date  ... rental_rate_2\n",
       "0  2005-05-25 02:54:33+00:00  ...        8.9401\n",
       "1  2005-06-15 23:19:16+00:00  ...        8.9401\n",
       "2  2005-07-10 04:27:45+00:00  ...        8.9401\n",
       "3  2005-07-31 12:06:41+00:00  ...        8.9401\n",
       "4  2005-08-19 12:30:04+00:00  ...        8.9401\n",
       "\n",
       "[5 rows x 15 columns]"
      ]
     },
     "execution_count": 32,
     "metadata": {
      "application/com.datacamp.data-table.v2+json": {
       "status": "success"
      }
     },
     "output_type": "execute_result"
    }
   ],
   "source": [
    "df_rental.head()"
   ]
  },
  {
   "cell_type": "code",
   "execution_count": 33,
   "id": "dc6144a3-9363-46c9-a8b1-18f4515c1bb7",
   "metadata": {
    "executionCancelledAt": null,
    "executionTime": 61,
    "lastExecutedAt": 1751086286637,
    "lastExecutedByKernel": "c2af7e91-b39c-429e-9825-f5a7dcfef77f",
    "lastScheduledRunId": null,
    "lastSuccessfullyExecutedCode": "df_rental['rental_date'] = pd.to_datetime(df_rental['rental_date'])\ndf_rental['return_date'] = pd.to_datetime(df_rental['return_date'])"
   },
   "outputs": [],
   "source": [
    "df_rental['rental_date'] = pd.to_datetime(df_rental['rental_date'])\n",
    "df_rental['return_date'] = pd.to_datetime(df_rental['return_date'])"
   ]
  },
  {
   "cell_type": "code",
   "execution_count": 34,
   "id": "c0b091ce-4238-435b-a6da-5ae7d1217721",
   "metadata": {
    "executionCancelledAt": null,
    "executionTime": null,
    "lastExecutedAt": null,
    "lastExecutedByKernel": null,
    "lastScheduledRunId": null,
    "lastSuccessfullyExecutedCode": null,
    "outputsMetadata": {
     "0": {
      "height": 550,
      "tableState": {
       "customFilter": {
        "const": {
         "type": "boolean",
         "valid": true,
         "value": true
        },
        "id": "03694db2-5bc7-4fd1-8b8c-6c8c9eefb49c",
        "nodeType": "const"
       }
      },
      "type": "dataFrame"
     }
    }
   },
   "outputs": [
    {
     "data": {
      "application/com.datacamp.data-table.v2+json": {
       "table": {
        "data": {
         "NC-17": [
          0,
          0,
          0,
          0,
          0
         ],
         "PG": [
          0,
          0,
          0,
          0,
          0
         ],
         "PG-13": [
          0,
          0,
          0,
          0,
          0
         ],
         "R": [
          1,
          1,
          1,
          1,
          1
         ],
         "amount": [
          2.99,
          2.99,
          2.99,
          2.99,
          2.99
         ],
         "amount_2": [
          8.9401,
          8.9401,
          8.9401,
          8.9401,
          8.9401
         ],
         "index": [
          0,
          1,
          2,
          3,
          4
         ],
         "length": [
          126,
          126,
          126,
          126,
          126
         ],
         "length_2": [
          15876,
          15876,
          15876,
          15876,
          15876
         ],
         "release_year": [
          2005,
          2005,
          2005,
          2005,
          2005
         ],
         "rental_date": [
          "2005-05-25T02:54:33.000",
          "2005-06-15T23:19:16.000",
          "2005-07-10T04:27:45.000",
          "2005-07-31T12:06:41.000",
          "2005-08-19T12:30:04.000"
         ],
         "rental_rate": [
          2.99,
          2.99,
          2.99,
          2.99,
          2.99
         ],
         "rental_rate_2": [
          8.9401,
          8.9401,
          8.9401,
          8.9401,
          8.9401
         ],
         "replacement_cost": [
          16.99,
          16.99,
          16.99,
          16.99,
          16.99
         ],
         "return_date": [
          "2005-05-28T23:40:33.000",
          "2005-06-18T19:24:16.000",
          "2005-07-17T10:11:45.000",
          "2005-08-02T14:30:41.000",
          "2005-08-23T13:35:04.000"
         ],
         "special_features": [
          "{Trailers,\"Behind the Scenes\"}",
          "{Trailers,\"Behind the Scenes\"}",
          "{Trailers,\"Behind the Scenes\"}",
          "{Trailers,\"Behind the Scenes\"}",
          "{Trailers,\"Behind the Scenes\"}"
         ]
        },
        "schema": {
         "fields": [
          {
           "name": "index",
           "type": "integer"
          },
          {
           "name": "rental_date",
           "type": "datetime",
           "tz": "UTC"
          },
          {
           "name": "return_date",
           "type": "datetime",
           "tz": "UTC"
          },
          {
           "name": "amount",
           "type": "number"
          },
          {
           "name": "release_year",
           "type": "number"
          },
          {
           "name": "rental_rate",
           "type": "number"
          },
          {
           "name": "length",
           "type": "number"
          },
          {
           "name": "replacement_cost",
           "type": "number"
          },
          {
           "name": "special_features",
           "type": "string"
          },
          {
           "name": "NC-17",
           "type": "integer"
          },
          {
           "name": "PG",
           "type": "integer"
          },
          {
           "name": "PG-13",
           "type": "integer"
          },
          {
           "name": "R",
           "type": "integer"
          },
          {
           "name": "amount_2",
           "type": "number"
          },
          {
           "name": "length_2",
           "type": "number"
          },
          {
           "name": "rental_rate_2",
           "type": "number"
          }
         ],
         "pandas_version": "1.4.0",
         "primaryKey": [
          "index"
         ]
        }
       },
       "total_rows": 5,
       "truncation_type": null
      },
      "text/html": [
       "<div>\n",
       "<style scoped>\n",
       "    .dataframe tbody tr th:only-of-type {\n",
       "        vertical-align: middle;\n",
       "    }\n",
       "\n",
       "    .dataframe tbody tr th {\n",
       "        vertical-align: top;\n",
       "    }\n",
       "\n",
       "    .dataframe thead th {\n",
       "        text-align: right;\n",
       "    }\n",
       "</style>\n",
       "<table border=\"1\" class=\"dataframe\">\n",
       "  <thead>\n",
       "    <tr style=\"text-align: right;\">\n",
       "      <th></th>\n",
       "      <th>rental_date</th>\n",
       "      <th>return_date</th>\n",
       "      <th>amount</th>\n",
       "      <th>release_year</th>\n",
       "      <th>rental_rate</th>\n",
       "      <th>length</th>\n",
       "      <th>replacement_cost</th>\n",
       "      <th>special_features</th>\n",
       "      <th>NC-17</th>\n",
       "      <th>PG</th>\n",
       "      <th>PG-13</th>\n",
       "      <th>R</th>\n",
       "      <th>amount_2</th>\n",
       "      <th>length_2</th>\n",
       "      <th>rental_rate_2</th>\n",
       "    </tr>\n",
       "  </thead>\n",
       "  <tbody>\n",
       "    <tr>\n",
       "      <th>0</th>\n",
       "      <td>2005-05-25 02:54:33+00:00</td>\n",
       "      <td>2005-05-28 23:40:33+00:00</td>\n",
       "      <td>2.99</td>\n",
       "      <td>2005.0</td>\n",
       "      <td>2.99</td>\n",
       "      <td>126.0</td>\n",
       "      <td>16.99</td>\n",
       "      <td>{Trailers,\"Behind the Scenes\"}</td>\n",
       "      <td>0</td>\n",
       "      <td>0</td>\n",
       "      <td>0</td>\n",
       "      <td>1</td>\n",
       "      <td>8.9401</td>\n",
       "      <td>15876.0</td>\n",
       "      <td>8.9401</td>\n",
       "    </tr>\n",
       "    <tr>\n",
       "      <th>1</th>\n",
       "      <td>2005-06-15 23:19:16+00:00</td>\n",
       "      <td>2005-06-18 19:24:16+00:00</td>\n",
       "      <td>2.99</td>\n",
       "      <td>2005.0</td>\n",
       "      <td>2.99</td>\n",
       "      <td>126.0</td>\n",
       "      <td>16.99</td>\n",
       "      <td>{Trailers,\"Behind the Scenes\"}</td>\n",
       "      <td>0</td>\n",
       "      <td>0</td>\n",
       "      <td>0</td>\n",
       "      <td>1</td>\n",
       "      <td>8.9401</td>\n",
       "      <td>15876.0</td>\n",
       "      <td>8.9401</td>\n",
       "    </tr>\n",
       "    <tr>\n",
       "      <th>2</th>\n",
       "      <td>2005-07-10 04:27:45+00:00</td>\n",
       "      <td>2005-07-17 10:11:45+00:00</td>\n",
       "      <td>2.99</td>\n",
       "      <td>2005.0</td>\n",
       "      <td>2.99</td>\n",
       "      <td>126.0</td>\n",
       "      <td>16.99</td>\n",
       "      <td>{Trailers,\"Behind the Scenes\"}</td>\n",
       "      <td>0</td>\n",
       "      <td>0</td>\n",
       "      <td>0</td>\n",
       "      <td>1</td>\n",
       "      <td>8.9401</td>\n",
       "      <td>15876.0</td>\n",
       "      <td>8.9401</td>\n",
       "    </tr>\n",
       "    <tr>\n",
       "      <th>3</th>\n",
       "      <td>2005-07-31 12:06:41+00:00</td>\n",
       "      <td>2005-08-02 14:30:41+00:00</td>\n",
       "      <td>2.99</td>\n",
       "      <td>2005.0</td>\n",
       "      <td>2.99</td>\n",
       "      <td>126.0</td>\n",
       "      <td>16.99</td>\n",
       "      <td>{Trailers,\"Behind the Scenes\"}</td>\n",
       "      <td>0</td>\n",
       "      <td>0</td>\n",
       "      <td>0</td>\n",
       "      <td>1</td>\n",
       "      <td>8.9401</td>\n",
       "      <td>15876.0</td>\n",
       "      <td>8.9401</td>\n",
       "    </tr>\n",
       "    <tr>\n",
       "      <th>4</th>\n",
       "      <td>2005-08-19 12:30:04+00:00</td>\n",
       "      <td>2005-08-23 13:35:04+00:00</td>\n",
       "      <td>2.99</td>\n",
       "      <td>2005.0</td>\n",
       "      <td>2.99</td>\n",
       "      <td>126.0</td>\n",
       "      <td>16.99</td>\n",
       "      <td>{Trailers,\"Behind the Scenes\"}</td>\n",
       "      <td>0</td>\n",
       "      <td>0</td>\n",
       "      <td>0</td>\n",
       "      <td>1</td>\n",
       "      <td>8.9401</td>\n",
       "      <td>15876.0</td>\n",
       "      <td>8.9401</td>\n",
       "    </tr>\n",
       "  </tbody>\n",
       "</table>\n",
       "</div>"
      ],
      "text/plain": [
       "                rental_date               return_date  ...  length_2  rental_rate_2\n",
       "0 2005-05-25 02:54:33+00:00 2005-05-28 23:40:33+00:00  ...   15876.0         8.9401\n",
       "1 2005-06-15 23:19:16+00:00 2005-06-18 19:24:16+00:00  ...   15876.0         8.9401\n",
       "2 2005-07-10 04:27:45+00:00 2005-07-17 10:11:45+00:00  ...   15876.0         8.9401\n",
       "3 2005-07-31 12:06:41+00:00 2005-08-02 14:30:41+00:00  ...   15876.0         8.9401\n",
       "4 2005-08-19 12:30:04+00:00 2005-08-23 13:35:04+00:00  ...   15876.0         8.9401\n",
       "\n",
       "[5 rows x 15 columns]"
      ]
     },
     "execution_count": 34,
     "metadata": {
      "application/com.datacamp.data-table.v2+json": {
       "status": "success"
      }
     },
     "output_type": "execute_result"
    }
   ],
   "source": [
    "df_rental.head()"
   ]
  },
  {
   "cell_type": "code",
   "execution_count": 35,
   "id": "9e43a502-9ac9-416d-8996-fc2d4f150cdd",
   "metadata": {
    "executionCancelledAt": null,
    "executionTime": 68,
    "lastExecutedAt": 1751086286770,
    "lastExecutedByKernel": "c2af7e91-b39c-429e-9825-f5a7dcfef77f",
    "lastScheduledRunId": null,
    "lastSuccessfullyExecutedCode": "df_rental['rental_length'] = pd.to_datetime(df_rental[\"return_date\"]) - pd.to_datetime(df_rental[\"rental_date\"])"
   },
   "outputs": [],
   "source": [
    "df_rental['rental_length'] = pd.to_datetime(df_rental[\"return_date\"]) - pd.to_datetime(df_rental[\"rental_date\"])"
   ]
  },
  {
   "cell_type": "code",
   "execution_count": 36,
   "id": "72bc01f0-9895-45cc-b01b-bdacb25722ce",
   "metadata": {
    "executionCancelledAt": null,
    "executionTime": 52,
    "lastExecutedAt": 1751086286822,
    "lastExecutedByKernel": "c2af7e91-b39c-429e-9825-f5a7dcfef77f",
    "lastScheduledRunId": null,
    "lastSuccessfullyExecutedCode": "df_rental[\"rental_length_days\"] = df_rental[\"rental_length\"].dt.days"
   },
   "outputs": [],
   "source": [
    "df_rental[\"rental_length_days\"] = df_rental[\"rental_length\"].dt.days"
   ]
  },
  {
   "cell_type": "code",
   "execution_count": 37,
   "id": "a30ffea6-7cc5-4b3d-a907-83eba500d309",
   "metadata": {
    "executionCancelledAt": null,
    "executionTime": null,
    "lastExecutedAt": null,
    "lastExecutedByKernel": null,
    "lastScheduledRunId": null,
    "lastSuccessfullyExecutedCode": null,
    "outputsMetadata": {
     "0": {
      "height": 550,
      "tableState": {
       "customFilter": {
        "const": {
         "type": "boolean",
         "valid": true,
         "value": true
        },
        "id": "03694db2-5bc7-4fd1-8b8c-6c8c9eefb49c",
        "nodeType": "const"
       }
      },
      "type": "dataFrame"
     }
    }
   },
   "outputs": [
    {
     "data": {
      "application/com.datacamp.data-table.v1+json": {
       "table": {
        "data": [
         {
          "NC-17": 0,
          "PG": 0,
          "PG-13": 0,
          "R": 1,
          "amount": 2.99,
          "amount_2": 8.9401,
          "index": 0,
          "length": 126,
          "length_2": 15876,
          "release_year": 2005,
          "rental_date": "2005-05-25T02:54:33.000Z",
          "rental_length": "P3DT20H46M0S",
          "rental_length_days": 3,
          "rental_rate": 2.99,
          "rental_rate_2": 8.9401,
          "replacement_cost": 16.99,
          "return_date": "2005-05-28T23:40:33.000Z",
          "special_features": "{Trailers,\"Behind the Scenes\"}"
         },
         {
          "NC-17": 0,
          "PG": 0,
          "PG-13": 0,
          "R": 1,
          "amount": 2.99,
          "amount_2": 8.9401,
          "index": 1,
          "length": 126,
          "length_2": 15876,
          "release_year": 2005,
          "rental_date": "2005-06-15T23:19:16.000Z",
          "rental_length": "P2DT20H5M0S",
          "rental_length_days": 2,
          "rental_rate": 2.99,
          "rental_rate_2": 8.9401,
          "replacement_cost": 16.99,
          "return_date": "2005-06-18T19:24:16.000Z",
          "special_features": "{Trailers,\"Behind the Scenes\"}"
         },
         {
          "NC-17": 0,
          "PG": 0,
          "PG-13": 0,
          "R": 1,
          "amount": 2.99,
          "amount_2": 8.9401,
          "index": 2,
          "length": 126,
          "length_2": 15876,
          "release_year": 2005,
          "rental_date": "2005-07-10T04:27:45.000Z",
          "rental_length": "P7DT5H44M0S",
          "rental_length_days": 7,
          "rental_rate": 2.99,
          "rental_rate_2": 8.9401,
          "replacement_cost": 16.99,
          "return_date": "2005-07-17T10:11:45.000Z",
          "special_features": "{Trailers,\"Behind the Scenes\"}"
         },
         {
          "NC-17": 0,
          "PG": 0,
          "PG-13": 0,
          "R": 1,
          "amount": 2.99,
          "amount_2": 8.9401,
          "index": 3,
          "length": 126,
          "length_2": 15876,
          "release_year": 2005,
          "rental_date": "2005-07-31T12:06:41.000Z",
          "rental_length": "P2DT2H24M0S",
          "rental_length_days": 2,
          "rental_rate": 2.99,
          "rental_rate_2": 8.9401,
          "replacement_cost": 16.99,
          "return_date": "2005-08-02T14:30:41.000Z",
          "special_features": "{Trailers,\"Behind the Scenes\"}"
         },
         {
          "NC-17": 0,
          "PG": 0,
          "PG-13": 0,
          "R": 1,
          "amount": 2.99,
          "amount_2": 8.9401,
          "index": 4,
          "length": 126,
          "length_2": 15876,
          "release_year": 2005,
          "rental_date": "2005-08-19T12:30:04.000Z",
          "rental_length": "P4DT1H5M0S",
          "rental_length_days": 4,
          "rental_rate": 2.99,
          "rental_rate_2": 8.9401,
          "replacement_cost": 16.99,
          "return_date": "2005-08-23T13:35:04.000Z",
          "special_features": "{Trailers,\"Behind the Scenes\"}"
         }
        ],
        "schema": {
         "fields": [
          {
           "name": "index",
           "type": "integer"
          },
          {
           "name": "rental_date",
           "type": "datetime",
           "tz": "UTC"
          },
          {
           "name": "return_date",
           "type": "datetime",
           "tz": "UTC"
          },
          {
           "name": "amount",
           "type": "number"
          },
          {
           "name": "release_year",
           "type": "number"
          },
          {
           "name": "rental_rate",
           "type": "number"
          },
          {
           "name": "length",
           "type": "number"
          },
          {
           "name": "replacement_cost",
           "type": "number"
          },
          {
           "name": "special_features",
           "type": "string"
          },
          {
           "name": "NC-17",
           "type": "integer"
          },
          {
           "name": "PG",
           "type": "integer"
          },
          {
           "name": "PG-13",
           "type": "integer"
          },
          {
           "name": "R",
           "type": "integer"
          },
          {
           "name": "amount_2",
           "type": "number"
          },
          {
           "name": "length_2",
           "type": "number"
          },
          {
           "name": "rental_rate_2",
           "type": "number"
          },
          {
           "name": "rental_length",
           "type": "duration"
          },
          {
           "name": "rental_length_days",
           "type": "integer"
          }
         ],
         "pandas_version": "1.4.0",
         "primaryKey": [
          "index"
         ]
        }
       },
       "total_rows": 5,
       "truncation_type": null
      },
      "text/html": [
       "<div>\n",
       "<style scoped>\n",
       "    .dataframe tbody tr th:only-of-type {\n",
       "        vertical-align: middle;\n",
       "    }\n",
       "\n",
       "    .dataframe tbody tr th {\n",
       "        vertical-align: top;\n",
       "    }\n",
       "\n",
       "    .dataframe thead th {\n",
       "        text-align: right;\n",
       "    }\n",
       "</style>\n",
       "<table border=\"1\" class=\"dataframe\">\n",
       "  <thead>\n",
       "    <tr style=\"text-align: right;\">\n",
       "      <th></th>\n",
       "      <th>rental_date</th>\n",
       "      <th>return_date</th>\n",
       "      <th>amount</th>\n",
       "      <th>release_year</th>\n",
       "      <th>rental_rate</th>\n",
       "      <th>length</th>\n",
       "      <th>replacement_cost</th>\n",
       "      <th>special_features</th>\n",
       "      <th>NC-17</th>\n",
       "      <th>PG</th>\n",
       "      <th>PG-13</th>\n",
       "      <th>R</th>\n",
       "      <th>amount_2</th>\n",
       "      <th>length_2</th>\n",
       "      <th>rental_rate_2</th>\n",
       "      <th>rental_length</th>\n",
       "      <th>rental_length_days</th>\n",
       "    </tr>\n",
       "  </thead>\n",
       "  <tbody>\n",
       "    <tr>\n",
       "      <th>0</th>\n",
       "      <td>2005-05-25 02:54:33+00:00</td>\n",
       "      <td>2005-05-28 23:40:33+00:00</td>\n",
       "      <td>2.99</td>\n",
       "      <td>2005.0</td>\n",
       "      <td>2.99</td>\n",
       "      <td>126.0</td>\n",
       "      <td>16.99</td>\n",
       "      <td>{Trailers,\"Behind the Scenes\"}</td>\n",
       "      <td>0</td>\n",
       "      <td>0</td>\n",
       "      <td>0</td>\n",
       "      <td>1</td>\n",
       "      <td>8.9401</td>\n",
       "      <td>15876.0</td>\n",
       "      <td>8.9401</td>\n",
       "      <td>3 days 20:46:00</td>\n",
       "      <td>3</td>\n",
       "    </tr>\n",
       "    <tr>\n",
       "      <th>1</th>\n",
       "      <td>2005-06-15 23:19:16+00:00</td>\n",
       "      <td>2005-06-18 19:24:16+00:00</td>\n",
       "      <td>2.99</td>\n",
       "      <td>2005.0</td>\n",
       "      <td>2.99</td>\n",
       "      <td>126.0</td>\n",
       "      <td>16.99</td>\n",
       "      <td>{Trailers,\"Behind the Scenes\"}</td>\n",
       "      <td>0</td>\n",
       "      <td>0</td>\n",
       "      <td>0</td>\n",
       "      <td>1</td>\n",
       "      <td>8.9401</td>\n",
       "      <td>15876.0</td>\n",
       "      <td>8.9401</td>\n",
       "      <td>2 days 20:05:00</td>\n",
       "      <td>2</td>\n",
       "    </tr>\n",
       "    <tr>\n",
       "      <th>2</th>\n",
       "      <td>2005-07-10 04:27:45+00:00</td>\n",
       "      <td>2005-07-17 10:11:45+00:00</td>\n",
       "      <td>2.99</td>\n",
       "      <td>2005.0</td>\n",
       "      <td>2.99</td>\n",
       "      <td>126.0</td>\n",
       "      <td>16.99</td>\n",
       "      <td>{Trailers,\"Behind the Scenes\"}</td>\n",
       "      <td>0</td>\n",
       "      <td>0</td>\n",
       "      <td>0</td>\n",
       "      <td>1</td>\n",
       "      <td>8.9401</td>\n",
       "      <td>15876.0</td>\n",
       "      <td>8.9401</td>\n",
       "      <td>7 days 05:44:00</td>\n",
       "      <td>7</td>\n",
       "    </tr>\n",
       "    <tr>\n",
       "      <th>3</th>\n",
       "      <td>2005-07-31 12:06:41+00:00</td>\n",
       "      <td>2005-08-02 14:30:41+00:00</td>\n",
       "      <td>2.99</td>\n",
       "      <td>2005.0</td>\n",
       "      <td>2.99</td>\n",
       "      <td>126.0</td>\n",
       "      <td>16.99</td>\n",
       "      <td>{Trailers,\"Behind the Scenes\"}</td>\n",
       "      <td>0</td>\n",
       "      <td>0</td>\n",
       "      <td>0</td>\n",
       "      <td>1</td>\n",
       "      <td>8.9401</td>\n",
       "      <td>15876.0</td>\n",
       "      <td>8.9401</td>\n",
       "      <td>2 days 02:24:00</td>\n",
       "      <td>2</td>\n",
       "    </tr>\n",
       "    <tr>\n",
       "      <th>4</th>\n",
       "      <td>2005-08-19 12:30:04+00:00</td>\n",
       "      <td>2005-08-23 13:35:04+00:00</td>\n",
       "      <td>2.99</td>\n",
       "      <td>2005.0</td>\n",
       "      <td>2.99</td>\n",
       "      <td>126.0</td>\n",
       "      <td>16.99</td>\n",
       "      <td>{Trailers,\"Behind the Scenes\"}</td>\n",
       "      <td>0</td>\n",
       "      <td>0</td>\n",
       "      <td>0</td>\n",
       "      <td>1</td>\n",
       "      <td>8.9401</td>\n",
       "      <td>15876.0</td>\n",
       "      <td>8.9401</td>\n",
       "      <td>4 days 01:05:00</td>\n",
       "      <td>4</td>\n",
       "    </tr>\n",
       "  </tbody>\n",
       "</table>\n",
       "</div>"
      ],
      "text/plain": [
       "                rental_date  ... rental_length_days\n",
       "0 2005-05-25 02:54:33+00:00  ...                  3\n",
       "1 2005-06-15 23:19:16+00:00  ...                  2\n",
       "2 2005-07-10 04:27:45+00:00  ...                  7\n",
       "3 2005-07-31 12:06:41+00:00  ...                  2\n",
       "4 2005-08-19 12:30:04+00:00  ...                  4\n",
       "\n",
       "[5 rows x 17 columns]"
      ]
     },
     "execution_count": 37,
     "metadata": {
      "application/com.datacamp.data-table.v1+json": {
       "status": "success"
      },
      "application/com.datacamp.data-table.v2+json": {
       "error": "'DataFrame' object has no attribute 'map'",
       "status": "error"
      }
     },
     "output_type": "execute_result"
    }
   ],
   "source": [
    "df_rental.head()"
   ]
  },
  {
   "cell_type": "code",
   "execution_count": 38,
   "id": "672f2a81-dede-403d-a1f0-f2c142f8ea1d",
   "metadata": {
    "executionCancelledAt": null,
    "executionTime": 61,
    "lastExecutedAt": 1751086286944,
    "lastExecutedByKernel": "c2af7e91-b39c-429e-9825-f5a7dcfef77f",
    "lastScheduledRunId": null,
    "lastSuccessfullyExecutedCode": "df_rental[\"deleted_scenes\"] =  np.where(df_rental[\"special_features\"].str.contains(\"Deleted Scenes\"), 1,0)\ndf_rental[\"behind_the_scenes\"] =  np.where(df_rental[\"special_features\"].str.contains(\"Behind the Scenes\"), 1, 0)"
   },
   "outputs": [],
   "source": [
    "df_rental[\"deleted_scenes\"] =  np.where(df_rental[\"special_features\"].str.contains(\"Deleted Scenes\"), 1,0)\n",
    "df_rental[\"behind_the_scenes\"] =  np.where(df_rental[\"special_features\"].str.contains(\"Behind the Scenes\"), 1, 0)"
   ]
  },
  {
   "cell_type": "code",
   "execution_count": 39,
   "id": "77d8397d-9ebf-48b9-a432-b04feee1300e",
   "metadata": {
    "executionCancelledAt": null,
    "executionTime": 59,
    "lastExecutedAt": 1751086287003,
    "lastExecutedByKernel": "c2af7e91-b39c-429e-9825-f5a7dcfef77f",
    "lastScheduledRunId": null,
    "lastSuccessfullyExecutedCode": "cols_to_drop = [\"special_features\", \"rental_length\", \"rental_length_days\", \"rental_date\", \"return_date\"]\nX = df_rental.drop(cols_to_drop, axis=1)\ny = rental_info[\"rental_length_days\"]\nX_train, X_test, y_train, y_test = train_test_split(X, y, test_size=0.2, random_state=9)"
   },
   "outputs": [],
   "source": [
    "cols_to_drop = [\"special_features\", \"rental_length\", \"rental_length_days\", \"rental_date\", \"return_date\"]\n",
    "X = df_rental.drop(cols_to_drop, axis=1)\n",
    "y = rental_info[\"rental_length_days\"]\n",
    "X_train, X_test, y_train, y_test = train_test_split(X, y, test_size=0.2, random_state=9)"
   ]
  },
  {
   "cell_type": "code",
   "execution_count": 40,
   "id": "78898efc-004d-48ed-8da4-1e28c94f3906",
   "metadata": {
    "executionCancelledAt": null,
    "executionTime": 59,
    "lastExecutedAt": 1751086287062,
    "lastExecutedByKernel": "c2af7e91-b39c-429e-9825-f5a7dcfef77f",
    "lastScheduledRunId": null,
    "lastSuccessfullyExecutedCode": "from sklearn.linear_model import Lasso\nfrom sklearn.model_selection import train_test_split\nfrom sklearn.preprocessing import StandardScaler"
   },
   "outputs": [],
   "source": [
    "from sklearn.linear_model import Lasso\n",
    "from sklearn.model_selection import train_test_split\n",
    "from sklearn.preprocessing import StandardScaler"
   ]
  },
  {
   "cell_type": "code",
   "execution_count": 41,
   "id": "ea13f841-663a-44ae-a2d8-b751d5de8cc1",
   "metadata": {
    "executionCancelledAt": null,
    "executionTime": 61,
    "lastExecutedAt": 1751086287123,
    "lastExecutedByKernel": "c2af7e91-b39c-429e-9825-f5a7dcfef77f",
    "lastScheduledRunId": null,
    "lastSuccessfullyExecutedCode": "from sklearn.ensemble import RandomForestRegressor\nfrom sklearn.model_selection import RandomizedSearchCV"
   },
   "outputs": [],
   "source": [
    "from sklearn.ensemble import RandomForestRegressor\n",
    "from sklearn.model_selection import RandomizedSearchCV"
   ]
  },
  {
   "cell_type": "code",
   "execution_count": 42,
   "id": "bbc8c74d-c50c-4acc-a782-c5929e816156",
   "metadata": {
    "executionCancelledAt": null,
    "executionTime": 57,
    "lastExecutedAt": 1751086287180,
    "lastExecutedByKernel": "c2af7e91-b39c-429e-9825-f5a7dcfef77f",
    "lastScheduledRunId": null,
    "lastSuccessfullyExecutedCode": "lasso = Lasso(alpha=0.3, random_state=9)"
   },
   "outputs": [],
   "source": [
    "lasso = Lasso(alpha=0.3, random_state=9)"
   ]
  },
  {
   "cell_type": "code",
   "execution_count": 43,
   "id": "56de952c-32a6-4b37-a061-6aa3b05a1eb6",
   "metadata": {
    "executionCancelledAt": null,
    "executionTime": 734,
    "lastExecutedAt": 1751086287914,
    "lastExecutedByKernel": "c2af7e91-b39c-429e-9825-f5a7dcfef77f",
    "lastScheduledRunId": null,
    "lastSuccessfullyExecutedCode": "lasso.fit(X_train, y_train)\nlasso_coef = lasso.coef_"
   },
   "outputs": [],
   "source": [
    "lasso.fit(X_train, y_train)\n",
    "lasso_coef = lasso.coef_"
   ]
  },
  {
   "cell_type": "code",
   "execution_count": 44,
   "id": "19aef2a3-0ee0-40eb-b35d-49ec851307b6",
   "metadata": {
    "executionCancelledAt": null,
    "executionTime": 61,
    "lastExecutedAt": 1751086287978,
    "lastExecutedByKernel": "c2af7e91-b39c-429e-9825-f5a7dcfef77f",
    "lastScheduledRunId": null,
    "lastSuccessfullyExecutedCode": "X_lasso_train, X_lasso_test = X_train.iloc[:, lasso_coef>0], X_test.iloc[:, lasso_coef > 0]"
   },
   "outputs": [],
   "source": [
    "X_lasso_train, X_lasso_test = X_train.iloc[:, lasso_coef>0], X_test.iloc[:, lasso_coef > 0]"
   ]
  },
  {
   "cell_type": "code",
   "execution_count": 45,
   "id": "3ae36fbc-412f-4a24-b79d-c8148fcabbee",
   "metadata": {
    "executionCancelledAt": null,
    "executionTime": 126,
    "lastExecutedAt": 1751086288104,
    "lastExecutedByKernel": "c2af7e91-b39c-429e-9825-f5a7dcfef77f",
    "lastScheduledRunId": null,
    "lastSuccessfullyExecutedCode": "from sklearn.linear_model import LinearRegression\nols = LinearRegression()\nols = ols.fit(X_lasso_train, y_train)\ny_test_pred = ols.predict(X_lasso_test)\nmse_lin_reg_lasso = mean_squared_error(y_test, y_test_pred)"
   },
   "outputs": [],
   "source": [
    "from sklearn.linear_model import LinearRegression\n",
    "ols = LinearRegression()\n",
    "ols = ols.fit(X_lasso_train, y_train)\n",
    "y_test_pred = ols.predict(X_lasso_test)\n",
    "mse_lin_reg_lasso = mean_squared_error(y_test, y_test_pred)"
   ]
  },
  {
   "cell_type": "code",
   "execution_count": 46,
   "id": "3e5cdb2c-54a4-4973-8afb-c079d22ead64",
   "metadata": {
    "executionCancelledAt": null,
    "executionTime": 50,
    "lastExecutedAt": 1751086288154,
    "lastExecutedByKernel": "c2af7e91-b39c-429e-9825-f5a7dcfef77f",
    "lastScheduledRunId": null,
    "lastSuccessfullyExecutedCode": "param_dist = {'n_estimators': np.arange(1,101,1),\n          'max_depth':np.arange(1,11,1)}"
   },
   "outputs": [],
   "source": [
    "param_dist = {'n_estimators': np.arange(1,101,1),\n",
    "          'max_depth':np.arange(1,11,1)}"
   ]
  },
  {
   "cell_type": "code",
   "execution_count": 47,
   "id": "d66604e3-ac15-4ec9-83bc-8ab76c03ef77",
   "metadata": {
    "executionCancelledAt": null,
    "executionTime": 53,
    "lastExecutedAt": 1751086288207,
    "lastExecutedByKernel": "c2af7e91-b39c-429e-9825-f5a7dcfef77f",
    "lastScheduledRunId": null,
    "lastSuccessfullyExecutedCode": "rf = RandomForestRegressor()"
   },
   "outputs": [],
   "source": [
    "rf = RandomForestRegressor()"
   ]
  },
  {
   "cell_type": "code",
   "execution_count": 48,
   "id": "84cf7a74-33f4-4cae-a089-cf231489eb5d",
   "metadata": {
    "executionCancelledAt": null,
    "executionTime": 60,
    "lastExecutedAt": 1751086288267,
    "lastExecutedByKernel": "c2af7e91-b39c-429e-9825-f5a7dcfef77f",
    "lastScheduledRunId": null,
    "lastSuccessfullyExecutedCode": "rand_search = RandomizedSearchCV(rf, param_distributions=param_dist, cv=5, random_state=9)"
   },
   "outputs": [],
   "source": [
    "rand_search = RandomizedSearchCV(rf, param_distributions=param_dist, cv=5, random_state=9)"
   ]
  },
  {
   "cell_type": "code",
   "execution_count": 49,
   "id": "814f9191-f080-418f-b59d-0909201b39ee",
   "metadata": {
    "executionCancelledAt": null,
    "executionTime": 29229,
    "lastExecutedAt": 1751086317498,
    "lastExecutedByKernel": "c2af7e91-b39c-429e-9825-f5a7dcfef77f",
    "lastScheduledRunId": null,
    "lastSuccessfullyExecutedCode": "rand_search.fit(X_train, y_train)"
   },
   "outputs": [
    {
     "data": {
      "text/html": [
       "<style>#sk-container-id-1 {color: black;background-color: white;}#sk-container-id-1 pre{padding: 0;}#sk-container-id-1 div.sk-toggleable {background-color: white;}#sk-container-id-1 label.sk-toggleable__label {cursor: pointer;display: block;width: 100%;margin-bottom: 0;padding: 0.3em;box-sizing: border-box;text-align: center;}#sk-container-id-1 label.sk-toggleable__label-arrow:before {content: \"▸\";float: left;margin-right: 0.25em;color: #696969;}#sk-container-id-1 label.sk-toggleable__label-arrow:hover:before {color: black;}#sk-container-id-1 div.sk-estimator:hover label.sk-toggleable__label-arrow:before {color: black;}#sk-container-id-1 div.sk-toggleable__content {max-height: 0;max-width: 0;overflow: hidden;text-align: left;background-color: #f0f8ff;}#sk-container-id-1 div.sk-toggleable__content pre {margin: 0.2em;color: black;border-radius: 0.25em;background-color: #f0f8ff;}#sk-container-id-1 input.sk-toggleable__control:checked~div.sk-toggleable__content {max-height: 200px;max-width: 100%;overflow: auto;}#sk-container-id-1 input.sk-toggleable__control:checked~label.sk-toggleable__label-arrow:before {content: \"▾\";}#sk-container-id-1 div.sk-estimator input.sk-toggleable__control:checked~label.sk-toggleable__label {background-color: #d4ebff;}#sk-container-id-1 div.sk-label input.sk-toggleable__control:checked~label.sk-toggleable__label {background-color: #d4ebff;}#sk-container-id-1 input.sk-hidden--visually {border: 0;clip: rect(1px 1px 1px 1px);clip: rect(1px, 1px, 1px, 1px);height: 1px;margin: -1px;overflow: hidden;padding: 0;position: absolute;width: 1px;}#sk-container-id-1 div.sk-estimator {font-family: monospace;background-color: #f0f8ff;border: 1px dotted black;border-radius: 0.25em;box-sizing: border-box;margin-bottom: 0.5em;}#sk-container-id-1 div.sk-estimator:hover {background-color: #d4ebff;}#sk-container-id-1 div.sk-parallel-item::after {content: \"\";width: 100%;border-bottom: 1px solid gray;flex-grow: 1;}#sk-container-id-1 div.sk-label:hover label.sk-toggleable__label {background-color: #d4ebff;}#sk-container-id-1 div.sk-serial::before {content: \"\";position: absolute;border-left: 1px solid gray;box-sizing: border-box;top: 0;bottom: 0;left: 50%;z-index: 0;}#sk-container-id-1 div.sk-serial {display: flex;flex-direction: column;align-items: center;background-color: white;padding-right: 0.2em;padding-left: 0.2em;position: relative;}#sk-container-id-1 div.sk-item {position: relative;z-index: 1;}#sk-container-id-1 div.sk-parallel {display: flex;align-items: stretch;justify-content: center;background-color: white;position: relative;}#sk-container-id-1 div.sk-item::before, #sk-container-id-1 div.sk-parallel-item::before {content: \"\";position: absolute;border-left: 1px solid gray;box-sizing: border-box;top: 0;bottom: 0;left: 50%;z-index: -1;}#sk-container-id-1 div.sk-parallel-item {display: flex;flex-direction: column;z-index: 1;position: relative;background-color: white;}#sk-container-id-1 div.sk-parallel-item:first-child::after {align-self: flex-end;width: 50%;}#sk-container-id-1 div.sk-parallel-item:last-child::after {align-self: flex-start;width: 50%;}#sk-container-id-1 div.sk-parallel-item:only-child::after {width: 0;}#sk-container-id-1 div.sk-dashed-wrapped {border: 1px dashed gray;margin: 0 0.4em 0.5em 0.4em;box-sizing: border-box;padding-bottom: 0.4em;background-color: white;}#sk-container-id-1 div.sk-label label {font-family: monospace;font-weight: bold;display: inline-block;line-height: 1.2em;}#sk-container-id-1 div.sk-label-container {text-align: center;}#sk-container-id-1 div.sk-container {/* jupyter's `normalize.less` sets `[hidden] { display: none; }` but bootstrap.min.css set `[hidden] { display: none !important; }` so we also need the `!important` here to be able to override the default hidden behavior on the sphinx rendered scikit-learn.org. See: https://github.com/scikit-learn/scikit-learn/issues/21755 */display: inline-block !important;position: relative;}#sk-container-id-1 div.sk-text-repr-fallback {display: none;}</style><div id=\"sk-container-id-1\" class=\"sk-top-container\"><div class=\"sk-text-repr-fallback\"><pre>RandomizedSearchCV(cv=5, estimator=RandomForestRegressor(),\n",
       "                   param_distributions={&#x27;max_depth&#x27;: array([ 1,  2,  3,  4,  5,  6,  7,  8,  9, 10]),\n",
       "                                        &#x27;n_estimators&#x27;: array([  1,   2,   3,   4,   5,   6,   7,   8,   9,  10,  11,  12,  13,\n",
       "        14,  15,  16,  17,  18,  19,  20,  21,  22,  23,  24,  25,  26,\n",
       "        27,  28,  29,  30,  31,  32,  33,  34,  35,  36,  37,  38,  39,\n",
       "        40,  41,  42,  43,  44,  45,  46,  47,  48,  49,  50,  51,  52,\n",
       "        53,  54,  55,  56,  57,  58,  59,  60,  61,  62,  63,  64,  65,\n",
       "        66,  67,  68,  69,  70,  71,  72,  73,  74,  75,  76,  77,  78,\n",
       "        79,  80,  81,  82,  83,  84,  85,  86,  87,  88,  89,  90,  91,\n",
       "        92,  93,  94,  95,  96,  97,  98,  99, 100])},\n",
       "                   random_state=9)</pre><b>In a Jupyter environment, please rerun this cell to show the HTML representation or trust the notebook. <br />On GitHub, the HTML representation is unable to render, please try loading this page with nbviewer.org.</b></div><div class=\"sk-container\" hidden><div class=\"sk-item sk-dashed-wrapped\"><div class=\"sk-label-container\"><div class=\"sk-label sk-toggleable\"><input class=\"sk-toggleable__control sk-hidden--visually\" id=\"sk-estimator-id-1\" type=\"checkbox\" ><label for=\"sk-estimator-id-1\" class=\"sk-toggleable__label sk-toggleable__label-arrow\">RandomizedSearchCV</label><div class=\"sk-toggleable__content\"><pre>RandomizedSearchCV(cv=5, estimator=RandomForestRegressor(),\n",
       "                   param_distributions={&#x27;max_depth&#x27;: array([ 1,  2,  3,  4,  5,  6,  7,  8,  9, 10]),\n",
       "                                        &#x27;n_estimators&#x27;: array([  1,   2,   3,   4,   5,   6,   7,   8,   9,  10,  11,  12,  13,\n",
       "        14,  15,  16,  17,  18,  19,  20,  21,  22,  23,  24,  25,  26,\n",
       "        27,  28,  29,  30,  31,  32,  33,  34,  35,  36,  37,  38,  39,\n",
       "        40,  41,  42,  43,  44,  45,  46,  47,  48,  49,  50,  51,  52,\n",
       "        53,  54,  55,  56,  57,  58,  59,  60,  61,  62,  63,  64,  65,\n",
       "        66,  67,  68,  69,  70,  71,  72,  73,  74,  75,  76,  77,  78,\n",
       "        79,  80,  81,  82,  83,  84,  85,  86,  87,  88,  89,  90,  91,\n",
       "        92,  93,  94,  95,  96,  97,  98,  99, 100])},\n",
       "                   random_state=9)</pre></div></div></div><div class=\"sk-parallel\"><div class=\"sk-parallel-item\"><div class=\"sk-item\"><div class=\"sk-label-container\"><div class=\"sk-label sk-toggleable\"><input class=\"sk-toggleable__control sk-hidden--visually\" id=\"sk-estimator-id-2\" type=\"checkbox\" ><label for=\"sk-estimator-id-2\" class=\"sk-toggleable__label sk-toggleable__label-arrow\">estimator: RandomForestRegressor</label><div class=\"sk-toggleable__content\"><pre>RandomForestRegressor()</pre></div></div></div><div class=\"sk-serial\"><div class=\"sk-item\"><div class=\"sk-estimator sk-toggleable\"><input class=\"sk-toggleable__control sk-hidden--visually\" id=\"sk-estimator-id-3\" type=\"checkbox\" ><label for=\"sk-estimator-id-3\" class=\"sk-toggleable__label sk-toggleable__label-arrow\">RandomForestRegressor</label><div class=\"sk-toggleable__content\"><pre>RandomForestRegressor()</pre></div></div></div></div></div></div></div></div></div></div>"
      ],
      "text/plain": [
       "RandomizedSearchCV(cv=5, estimator=RandomForestRegressor(),\n",
       "                   param_distributions={'max_depth': array([ 1,  2,  3,  4,  5,  6,  7,  8,  9, 10]),\n",
       "                                        'n_estimators': array([  1,   2,   3,   4,   5,   6,   7,   8,   9,  10,  11,  12,  13,\n",
       "        14,  15,  16,  17,  18,  19,  20,  21,  22,  23,  24,  25,  26,\n",
       "        27,  28,  29,  30,  31,  32,  33,  34,  35,  36,  37,  38,  39,\n",
       "        40,  41,  42,  43,  44,  45,  46,  47,  48,  49,  50,  51,  52,\n",
       "        53,  54,  55,  56,  57,  58,  59,  60,  61,  62,  63,  64,  65,\n",
       "        66,  67,  68,  69,  70,  71,  72,  73,  74,  75,  76,  77,  78,\n",
       "        79,  80,  81,  82,  83,  84,  85,  86,  87,  88,  89,  90,  91,\n",
       "        92,  93,  94,  95,  96,  97,  98,  99, 100])},\n",
       "                   random_state=9)"
      ]
     },
     "execution_count": 49,
     "metadata": {},
     "output_type": "execute_result"
    }
   ],
   "source": [
    "rand_search.fit(X_train, y_train)"
   ]
  },
  {
   "cell_type": "code",
   "execution_count": 50,
   "id": "c889f00e-5eef-48ad-8927-651e3490177a",
   "metadata": {
    "executionCancelledAt": null,
    "executionTime": 59,
    "lastExecutedAt": 1751086317559,
    "lastExecutedByKernel": "c2af7e91-b39c-429e-9825-f5a7dcfef77f",
    "lastScheduledRunId": null,
    "lastSuccessfullyExecutedCode": "hyper_params = rand_search.best_params_"
   },
   "outputs": [],
   "source": [
    "hyper_params = rand_search.best_params_"
   ]
  },
  {
   "cell_type": "code",
   "execution_count": 51,
   "id": "d388c605-6f6c-49b0-9bec-fa50e1195ead",
   "metadata": {
    "executionCancelledAt": null,
    "executionTime": 51,
    "lastExecutedAt": 1751086317610,
    "lastExecutedByKernel": "c2af7e91-b39c-429e-9825-f5a7dcfef77f",
    "lastScheduledRunId": null,
    "lastSuccessfullyExecutedCode": "rf = RandomForestRegressor(n_estimators=hyper_params[\"n_estimators\"], max_depth=hyper_params[\"max_depth\"], random_state=9)"
   },
   "outputs": [],
   "source": [
    "rf = RandomForestRegressor(n_estimators=hyper_params[\"n_estimators\"], max_depth=hyper_params[\"max_depth\"], random_state=9)"
   ]
  },
  {
   "cell_type": "code",
   "execution_count": 52,
   "id": "15aa3d9c-7d2d-4eb6-b018-10eaf36fddfb",
   "metadata": {
    "executionCancelledAt": null,
    "executionTime": 1202,
    "lastExecutedAt": 1751086318812,
    "lastExecutedByKernel": "c2af7e91-b39c-429e-9825-f5a7dcfef77f",
    "lastScheduledRunId": null,
    "lastSuccessfullyExecutedCode": "rf.fit(X_train,y_train)\nrf_pred = rf.predict(X_test)"
   },
   "outputs": [],
   "source": [
    "rf.fit(X_train,y_train)\n",
    "rf_pred = rf.predict(X_test)"
   ]
  },
  {
   "cell_type": "code",
   "execution_count": 53,
   "id": "37bbdaf9-ad57-4c66-8a08-fba11e56ffec",
   "metadata": {
    "executionCancelledAt": null,
    "executionTime": 55,
    "lastExecutedAt": 1751086318870,
    "lastExecutedByKernel": "c2af7e91-b39c-429e-9825-f5a7dcfef77f",
    "lastScheduledRunId": null,
    "lastSuccessfullyExecutedCode": "mse_random_forest= mean_squared_error(y_test, rf_pred)\n\nbest_model = rf\nbest_mse = mse_random_forest"
   },
   "outputs": [],
   "source": [
    "mse_random_forest= mean_squared_error(y_test, rf_pred)\n",
    "\n",
    "best_model = rf\n",
    "best_mse = mse_random_forest"
   ]
  },
  {
   "cell_type": "code",
   "execution_count": 53,
   "id": "fd771f87-47ff-4319-9da6-4546e2352192",
   "metadata": {
    "executionCancelledAt": null,
    "executionTime": 49,
    "lastExecutedAt": 1751086318919,
    "lastExecutedByKernel": "c2af7e91-b39c-429e-9825-f5a7dcfef77f",
    "lastScheduledRunId": null,
    "lastSuccessfullyExecutedCode": ""
   },
   "outputs": [],
   "source": []
  }
 ],
 "metadata": {
  "colab": {
   "name": "Welcome to DataCamp Workspaces.ipynb",
   "provenance": []
  },
  "kernelspec": {
   "display_name": "Python 3 (ipykernel)",
   "language": "python",
   "name": "python3"
  },
  "language_info": {
   "codemirror_mode": {
    "name": "ipython",
    "version": 3
   },
   "file_extension": ".py",
   "mimetype": "text/x-python",
   "name": "python",
   "nbconvert_exporter": "python",
   "pygments_lexer": "ipython3",
   "version": "3.8.10"
  }
 },
 "nbformat": 4,
 "nbformat_minor": 5
}
